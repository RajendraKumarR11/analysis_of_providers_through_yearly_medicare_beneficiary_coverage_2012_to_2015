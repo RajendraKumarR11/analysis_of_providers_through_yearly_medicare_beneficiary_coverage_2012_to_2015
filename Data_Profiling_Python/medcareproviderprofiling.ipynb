{
 "cells": [
  {
   "cell_type": "code",
   "execution_count": 1,
   "metadata": {},
   "outputs": [
    {
     "name": "stdout",
     "output_type": "stream",
     "text": [
      "Current Working Directory  C:\\Users\\aniru\\Downloads\n"
     ]
    }
   ],
   "source": [
    "#Setting current directory\n",
    "import os\n",
    "print(\"Current Working Directory \" , os.getcwd())"
   ]
  },
  {
   "cell_type": "code",
   "execution_count": 2,
   "metadata": {},
   "outputs": [],
   "source": [
    "#Import of csv file\n",
    "import pandas as pd\n",
    "medicareproviderdf= pd.read_csv('Medicare_Provider_Utilization_and_Payment_Data__Physician_and_Other_Supplier_PUF_CY2017.csv', dtype={\"National Provider Identifier\":'str',\"Last Name/Organization Name of the Provider\":str,\"First Name of the Provider\":str,\"Middle Initial of the Provider\":str,\"Credentials of the Provider\" :str,\"Gender of the Provider\":str,\"Entity Type of the Provider\":str, \"Street Address 1 of the Provider\":str, \"Street Address 2 of the Provider\":str,\"City of the Provider\":str, \"Zip Code of the Provider\":str, \"State Code of the Provider\":str, \"Country Code of the Provider\":str,\"Provider Type\":str, \"Medicare Participation Indicator\":str, \"Place of Service\":str, \"HCPCS Code\":str, \"HCPCS Description\":str,\"HCPCS Drug Indicator\":str, \"Number of Services\":str, \"Number of Medicare Beneficiaries\":str, \"Number of Distinct Medicare Beneficiary/Per Day Services\":str,\"Average Medicare Allowed Amount\":str, \"Average Submitted Charge Amount\":str, \"Average Medicare Payment Amount\":str, \"Average Medicare Standardized Amount\":str})"
   ]
  },
  {
   "cell_type": "code",
   "execution_count": 2,
   "metadata": {},
   "outputs": [],
   "source": [
    "import numpy as np"
   ]
  },
  {
   "cell_type": "code",
   "execution_count": 3,
   "metadata": {},
   "outputs": [],
   "source": [
    "measurer = np.vectorize(len)"
   ]
  },
  {
   "cell_type": "code",
   "execution_count": 8,
   "metadata": {},
   "outputs": [
    {
     "ename": "MemoryError",
     "evalue": "",
     "output_type": "error",
     "traceback": [
      "\u001b[1;31m---------------------------------------------------------------------------\u001b[0m",
      "\u001b[1;31mMemoryError\u001b[0m                               Traceback (most recent call last)",
      "\u001b[1;32m<ipython-input-8-b2d674832ebf>\u001b[0m in \u001b[0;36m<module>\u001b[1;34m\u001b[0m\n\u001b[1;32m----> 1\u001b[1;33m \u001b[0mmeasurer\u001b[0m\u001b[1;33m(\u001b[0m\u001b[0mmedicareproviderdf\u001b[0m\u001b[1;33m.\u001b[0m\u001b[0mselect_dtypes\u001b[0m\u001b[1;33m(\u001b[0m\u001b[0minclude\u001b[0m\u001b[1;33m=\u001b[0m\u001b[1;33m[\u001b[0m\u001b[0mobject\u001b[0m\u001b[1;33m]\u001b[0m\u001b[1;33m)\u001b[0m\u001b[1;33m.\u001b[0m\u001b[0mvalues\u001b[0m\u001b[1;33m.\u001b[0m\u001b[0mastype\u001b[0m\u001b[1;33m(\u001b[0m\u001b[0mstr\u001b[0m\u001b[1;33m)\u001b[0m\u001b[1;33m)\u001b[0m\u001b[1;33m.\u001b[0m\u001b[0mmax\u001b[0m\u001b[1;33m(\u001b[0m\u001b[0maxis\u001b[0m\u001b[1;33m=\u001b[0m\u001b[1;36m0\u001b[0m\u001b[1;33m)\u001b[0m\u001b[1;33m\u001b[0m\u001b[1;33m\u001b[0m\u001b[0m\n\u001b[0m",
      "\u001b[1;31mMemoryError\u001b[0m: "
     ]
    }
   ],
   "source": [
    "measurer(medicareproviderdf.select_dtypes(include=[object]).values.astype(str)).max(axis=0)"
   ]
  },
  {
   "cell_type": "code",
   "execution_count": 15,
   "metadata": {},
   "outputs": [
    {
     "data": {
      "text/plain": [
       "(9847443, 26)"
      ]
     },
     "execution_count": 15,
     "metadata": {},
     "output_type": "execute_result"
    }
   ],
   "source": [
    "#Finding the number of rows and columns\n",
    "medicareproviderdf.shape"
   ]
  },
  {
   "cell_type": "code",
   "execution_count": 46,
   "metadata": {},
   "outputs": [
    {
     "name": "stdout",
     "output_type": "stream",
     "text": [
      "  National Provider Identifier Last Name/Organization Name of the Provider  \\\n",
      "0                   1003000126                                   ENKESHAFI   \n",
      "1                   1003000126                                   ENKESHAFI   \n",
      "2                   1003000126                                   ENKESHAFI   \n",
      "3                   1003000126                                   ENKESHAFI   \n",
      "4                   1003000126                                   ENKESHAFI   \n",
      "5                   1003000126                                   ENKESHAFI   \n",
      "6                   1003000126                                   ENKESHAFI   \n",
      "7                   1003000126                                   ENKESHAFI   \n",
      "8                   1003000126                                   ENKESHAFI   \n",
      "9                   1003000126                                   ENKESHAFI   \n",
      "\n",
      "  First Name of the Provider Middle Initial of the Provider  \\\n",
      "0                    ARDALAN                            NaN   \n",
      "1                    ARDALAN                            NaN   \n",
      "2                    ARDALAN                            NaN   \n",
      "3                    ARDALAN                            NaN   \n",
      "4                    ARDALAN                            NaN   \n",
      "5                    ARDALAN                            NaN   \n",
      "6                    ARDALAN                            NaN   \n",
      "7                    ARDALAN                            NaN   \n",
      "8                    ARDALAN                            NaN   \n",
      "9                    ARDALAN                            NaN   \n",
      "\n",
      "  Credentials of the Provider Gender of the Provider  \\\n",
      "0                        M.D.                      M   \n",
      "1                        M.D.                      M   \n",
      "2                        M.D.                      M   \n",
      "3                        M.D.                      M   \n",
      "4                        M.D.                      M   \n",
      "5                        M.D.                      M   \n",
      "6                        M.D.                      M   \n",
      "7                        M.D.                      M   \n",
      "8                        M.D.                      M   \n",
      "9                        M.D.                      M   \n",
      "\n",
      "  Entity Type of the Provider Street Address 1 of the Provider  \\\n",
      "0                           I                     900 SETON DR   \n",
      "1                           I                     900 SETON DR   \n",
      "2                           I                     900 SETON DR   \n",
      "3                           I                     900 SETON DR   \n",
      "4                           I                     900 SETON DR   \n",
      "5                           I                     900 SETON DR   \n",
      "6                           I                     900 SETON DR   \n",
      "7                           I                     900 SETON DR   \n",
      "8                           I                     900 SETON DR   \n",
      "9                           I                     900 SETON DR   \n",
      "\n",
      "  Street Address 2 of the Provider City of the Provider  \\\n",
      "0                              NaN           CUMBERLAND   \n",
      "1                              NaN           CUMBERLAND   \n",
      "2                              NaN           CUMBERLAND   \n",
      "3                              NaN           CUMBERLAND   \n",
      "4                              NaN           CUMBERLAND   \n",
      "5                              NaN           CUMBERLAND   \n",
      "6                              NaN           CUMBERLAND   \n",
      "7                              NaN           CUMBERLAND   \n",
      "8                              NaN           CUMBERLAND   \n",
      "9                              NaN           CUMBERLAND   \n",
      "\n",
      "                  ...                  HCPCS Code  \\\n",
      "0                 ...                       99217   \n",
      "1                 ...                       99218   \n",
      "2                 ...                       99219   \n",
      "3                 ...                       99220   \n",
      "4                 ...                       99221   \n",
      "5                 ...                       99222   \n",
      "6                 ...                       99223   \n",
      "7                 ...                       99232   \n",
      "8                 ...                       99233   \n",
      "9                 ...                       99239   \n",
      "\n",
      "                                   HCPCS Description HCPCS Drug Indicator  \\\n",
      "0                Hospital observation care discharge                    N   \n",
      "1     Hospital observation care typically 30 minutes                    N   \n",
      "2     Hospital observation care typically 50 minutes                    N   \n",
      "3  Hospital observation care typically 70 minutes...                    N   \n",
      "4  Initial hospital inpatient care, typically 30 ...                    N   \n",
      "5  Initial hospital inpatient care, typically 50 ...                    N   \n",
      "6  Initial hospital inpatient care, typically 70 ...                    N   \n",
      "7  Subsequent hospital inpatient care, typically ...                    N   \n",
      "8  Subsequent hospital inpatient care, typically ...                    N   \n",
      "9  Hospital discharge day management, more than 3...                    N   \n",
      "\n",
      "  Number of Services Number of Medicare Beneficiaries  \\\n",
      "0                100                               96   \n",
      "1                 26                               25   \n",
      "2                 52                               51   \n",
      "3                 59                               59   \n",
      "4                 16                               16   \n",
      "5                 59                               57   \n",
      "6                114                              110   \n",
      "7                627                              233   \n",
      "8                207                              127   \n",
      "9                341                              291   \n",
      "\n",
      "  Number of Distinct Medicare Beneficiary/Per Day Services  \\\n",
      "0                                                100         \n",
      "1                                                 26         \n",
      "2                                                 52         \n",
      "3                                                 59         \n",
      "4                                                 16         \n",
      "5                                                 59         \n",
      "6                                                114         \n",
      "7                                                627         \n",
      "8                                                207         \n",
      "9                                                341         \n",
      "\n",
      "  Average Medicare Allowed Amount Average Submitted Charge Amount  \\\n",
      "0                         73.3988                          325.78   \n",
      "1                          100.08                             449   \n",
      "2                          136.38                             614   \n",
      "3                    190.36372881                    755.93220339   \n",
      "4                          101.68                        462.8125   \n",
      "5                          137.31                             625   \n",
      "6                    206.06157895                    923.99122807   \n",
      "7                     72.62245614                    326.24561404   \n",
      "8                    106.65391304                    461.07246377   \n",
      "9                    108.36328446                    481.68621701   \n",
      "\n",
      "  Average Medicare Payment Amount Average Medicare Standardized Amount  \n",
      "0                         56.8272                              57.4924  \n",
      "1                           78.46                         79.306153846  \n",
      "2                    102.80769231                         103.89538462  \n",
      "3                    141.29355932                         142.86576271  \n",
      "4                           79.71                                80.75  \n",
      "5                    105.82542373                         107.07067797  \n",
      "6                    160.37719298                         160.02631579  \n",
      "7                    56.366730463                         57.047894737  \n",
      "8                    82.820676329                         83.196038647  \n",
      "9                    84.056158358                         84.955131965  \n",
      "\n",
      "[10 rows x 26 columns]\n"
     ]
    }
   ],
   "source": [
    "medcare=medicareproviderdf.head(10)\n",
    "print(medcare)"
   ]
  },
  {
   "cell_type": "code",
   "execution_count": 16,
   "metadata": {},
   "outputs": [
    {
     "data": {
      "text/plain": [
       "National Provider Identifier                                object\n",
       "Last Name/Organization Name of the Provider                 object\n",
       "First Name of the Provider                                  object\n",
       "Middle Initial of the Provider                              object\n",
       "Credentials of the Provider                                 object\n",
       "Gender of the Provider                                      object\n",
       "Entity Type of the Provider                                 object\n",
       "Street Address 1 of the Provider                            object\n",
       "Street Address 2 of the Provider                            object\n",
       "City of the Provider                                        object\n",
       "Zip Code of the Provider                                    object\n",
       "State Code of the Provider                                  object\n",
       "Country Code of the Provider                                object\n",
       "Provider Type                                               object\n",
       "Medicare Participation Indicator                            object\n",
       "Place of Service                                            object\n",
       "HCPCS Code                                                  object\n",
       "HCPCS Description                                           object\n",
       "HCPCS Drug Indicator                                        object\n",
       "Number of Services                                          object\n",
       "Number of Medicare Beneficiaries                            object\n",
       "Number of Distinct Medicare Beneficiary/Per Day Services    object\n",
       "Average Medicare Allowed Amount                             object\n",
       "Average Submitted Charge Amount                             object\n",
       "Average Medicare Payment Amount                             object\n",
       "Average Medicare Standardized Amount                        object\n",
       "dtype: object"
      ]
     },
     "execution_count": 16,
     "metadata": {},
     "output_type": "execute_result"
    }
   ],
   "source": [
    "#Finding the datatypes of the fields\n",
    "medicareproviderdf.dtypes"
   ]
  },
  {
   "cell_type": "code",
   "execution_count": 17,
   "metadata": {},
   "outputs": [
    {
     "data": {
      "text/plain": [
       "National Provider Identifier                                      0\n",
       "Last Name/Organization Name of the Provider                     146\n",
       "First Name of the Provider                                   431421\n",
       "Middle Initial of the Provider                              2907476\n",
       "Credentials of the Provider                                  732460\n",
       "Gender of the Provider                                       431318\n",
       "Entity Type of the Provider                                       0\n",
       "Street Address 1 of the Provider                                  6\n",
       "Street Address 2 of the Provider                            5858230\n",
       "City of the Provider                                              2\n",
       "Zip Code of the Provider                                          2\n",
       "State Code of the Provider                                        0\n",
       "Country Code of the Provider                                      0\n",
       "Provider Type                                                     0\n",
       "Medicare Participation Indicator                                  0\n",
       "Place of Service                                                  0\n",
       "HCPCS Code                                                        0\n",
       "HCPCS Description                                                 0\n",
       "HCPCS Drug Indicator                                              0\n",
       "Number of Services                                                0\n",
       "Number of Medicare Beneficiaries                                  0\n",
       "Number of Distinct Medicare Beneficiary/Per Day Services          0\n",
       "Average Medicare Allowed Amount                                   0\n",
       "Average Submitted Charge Amount                                   0\n",
       "Average Medicare Payment Amount                                   0\n",
       "Average Medicare Standardized Amount                              0\n",
       "dtype: int64"
      ]
     },
     "execution_count": 17,
     "metadata": {},
     "output_type": "execute_result"
    }
   ],
   "source": [
    "#Finding the count of the missing values\n",
    "medicareproviderdf.isnull().sum()"
   ]
  },
  {
   "cell_type": "code",
   "execution_count": 18,
   "metadata": {},
   "outputs": [
    {
     "name": "stdout",
     "output_type": "stream",
     "text": [
      "<class 'pandas.core.frame.DataFrame'>\n",
      "RangeIndex: 9847443 entries, 0 to 9847442\n",
      "Data columns (total 26 columns):\n",
      "National Provider Identifier                                object\n",
      "Last Name/Organization Name of the Provider                 object\n",
      "First Name of the Provider                                  object\n",
      "Middle Initial of the Provider                              object\n",
      "Credentials of the Provider                                 object\n",
      "Gender of the Provider                                      object\n",
      "Entity Type of the Provider                                 object\n",
      "Street Address 1 of the Provider                            object\n",
      "Street Address 2 of the Provider                            object\n",
      "City of the Provider                                        object\n",
      "Zip Code of the Provider                                    object\n",
      "State Code of the Provider                                  object\n",
      "Country Code of the Provider                                object\n",
      "Provider Type                                               object\n",
      "Medicare Participation Indicator                            object\n",
      "Place of Service                                            object\n",
      "HCPCS Code                                                  object\n",
      "HCPCS Description                                           object\n",
      "HCPCS Drug Indicator                                        object\n",
      "Number of Services                                          object\n",
      "Number of Medicare Beneficiaries                            object\n",
      "Number of Distinct Medicare Beneficiary/Per Day Services    object\n",
      "Average Medicare Allowed Amount                             object\n",
      "Average Submitted Charge Amount                             object\n",
      "Average Medicare Payment Amount                             object\n",
      "Average Medicare Standardized Amount                        object\n",
      "dtypes: object(26)\n",
      "memory usage: 1.9+ GB\n"
     ]
    }
   ],
   "source": [
    "#Using 'info' to find details about the dataframe\n",
    "medicareproviderdf.info()"
   ]
  },
  {
   "cell_type": "code",
   "execution_count": 70,
   "metadata": {
    "scrolled": true
   },
   "outputs": [
    {
     "data": {
      "text/plain": [
       "National Provider Identifier                                 0.000000\n",
       "Last Name/Organization Name of the Provider                  0.001483\n",
       "First Name of the Provider                                   4.381046\n",
       "Middle Initial of the Provider                              29.525187\n",
       "Credentials of the Provider                                  7.438073\n",
       "Gender of the Provider                                       4.380000\n",
       "Entity Type of the Provider                                  0.000000\n",
       "Street Address 1 of the Provider                             0.000061\n",
       "Street Address 2 of the Provider                            59.489859\n",
       "City of the Provider                                         0.000020\n",
       "Zip Code of the Provider                                     0.000020\n",
       "State Code of the Provider                                   0.000000\n",
       "Country Code of the Provider                                 0.000000\n",
       "Provider Type                                                0.000000\n",
       "Medicare Participation Indicator                             0.000000\n",
       "Place of Service                                             0.000000\n",
       "HCPCS Code                                                   0.000000\n",
       "HCPCS Description                                            0.000000\n",
       "HCPCS Drug Indicator                                         0.000000\n",
       "Number of Medicare Beneficiaries                             0.000000\n",
       "Number of Distinct Medicare Beneficiary/Per Day Services     0.000000\n",
       "Average Medicare Allowed Amount_new                          0.000000\n",
       "Average Submitted Charge Amount_new                          0.000000\n",
       "Average Medicare Payment Amount_new                          0.000000\n",
       "Average Medicare Standardized Amount_new                     0.000000\n",
       "Number of Services_new                                       0.000000\n",
       "dtype: float64"
      ]
     },
     "execution_count": 70,
     "metadata": {},
     "output_type": "execute_result"
    }
   ],
   "source": [
    "# Calculating the percentage of missing values\n",
    "(medicareproviderdf.isnull().sum()/len(medicareproviderdf))*100"
   ]
  },
  {
   "cell_type": "code",
   "execution_count": 32,
   "metadata": {
    "scrolled": true
   },
   "outputs": [
    {
     "data": {
      "text/plain": [
       "Diagnostic Radiology                                1241400\n",
       "Internal Medicine                                   1118171\n",
       "Family Practice                                      969268\n",
       "Nurse Practitioner                                   560219\n",
       "Cardiology                                           445088\n",
       "Physician Assistant                                  375083\n",
       "Orthopedic Surgery                                   299359\n",
       "Physical Therapist in Private Practice               274141\n",
       "Ophthalmology                                        240830\n",
       "Anesthesiology                                       233144\n",
       "Emergency Medicine                                   230975\n",
       "Dermatology                                          203723\n",
       "Podiatry                                             188938\n",
       "Urology                                              183274\n",
       "Gastroenterology                                     182439\n",
       "Hematology-Oncology                                  171265\n",
       "Optometry                                            165487\n",
       "General Surgery                                      157146\n",
       "Pathology                                            153400\n",
       "Pulmonary Disease                                    143569\n",
       "Neurology                                            134044\n",
       "Mass Immunizer Roster Biller                         125109\n",
       "Clinical Laboratory                                  118120\n",
       "Certified Registered Nurse Anesthetist (CRNA)        116577\n",
       "Nephrology                                           110400\n",
       "Obstetrics & Gynecology                              101068\n",
       "Otolaryngology                                        97581\n",
       "Physical Medicine and Rehabilitation                  84463\n",
       "Psychiatry                                            82455\n",
       "Radiation Oncology                                    79411\n",
       "                                                     ...   \n",
       "Gynecological Oncology                                 7923\n",
       "Hematology                                             7580\n",
       "Certified Clinical Nurse Specialist                    7412\n",
       "Surgical Oncology                                      5992\n",
       "Hospice and Palliative Care                            5745\n",
       "Osteopathic Manipulative Medicine                      4836\n",
       "Anesthesiology Assistant                               4550\n",
       "Undefined Physician type                               4441\n",
       "Registered Dietitian or Nutrition Professional         3252\n",
       "Sleep Medicine                                         3230\n",
       "Oral Surgery (Dentist only)                            3093\n",
       "All Other Suppliers                                    2975\n",
       "Speech Language Pathologist                            2162\n",
       "Maxillofacial Surgery                                  1757\n",
       "Preventive Medicine                                    1668\n",
       "Peripheral Vascular Disease                            1162\n",
       "Geriatric Psychiatry                                   1148\n",
       "Certified Nurse Midwife                                1122\n",
       "Public Health or Welfare Agency                         940\n",
       "Neuropsychiatry                                         839\n",
       "Addiction Medicine                                      803\n",
       "Clinic or Group Practice                                740\n",
       "Radiation Therapy Center                                596\n",
       "Advanced Heart Failure and Transplant Cardiology        201\n",
       "Pharmacy                                                 74\n",
       "Dentist                                                  69\n",
       "Mammography Center                                       53\n",
       "Slide Preparation Facility                               40\n",
       "Unknown Supplier/Provider Specialty                      17\n",
       "Medical Toxicology                                        2\n",
       "Name: Provider Type, Length: 94, dtype: int64"
      ]
     },
     "execution_count": 32,
     "metadata": {},
     "output_type": "execute_result"
    }
   ],
   "source": [
    "#Frequency of value occurrence for 'Provider Type' field\n",
    "medicareproviderdf['Provider Type'].value_counts()"
   ]
  },
  {
   "cell_type": "code",
   "execution_count": 31,
   "metadata": {},
   "outputs": [
    {
     "data": {
      "text/plain": [
       "94"
      ]
     },
     "execution_count": 31,
     "metadata": {},
     "output_type": "execute_result"
    }
   ],
   "source": [
    "#Total number of categories for 'Provider Type'\n",
    "len(medicareproviderdf['Provider Type'].value_counts())"
   ]
  },
  {
   "cell_type": "code",
   "execution_count": 27,
   "metadata": {},
   "outputs": [
    {
     "data": {
      "text/plain": [
       "Established patient office or other outpatient visit, typically 15 minutes                                                                                                                                                                                          457843\n",
       "Established patient office or other outpatient, visit typically 25 minutes                                                                                                                                                                                          428268\n",
       "New patient office or other outpatient visit, typically 45 minutes                                                                                                                                                                                                  179569\n",
       "New patient office or other outpatient visit, typically 30 minutes                                                                                                                                                                                                  178059\n",
       "Subsequent hospital inpatient care, typically 25 minutes per day                                                                                                                                                                                                    175336\n",
       "Administration of influenza virus vaccine                                                                                                                                                                                                                           145184\n",
       "Initial hospital inpatient care, typically 70 minutes per day                                                                                                                                                                                                       133368\n",
       "Established patient office or other outpatient visit, typically 10 minutes                                                                                                                                                                                          133180\n",
       "Subsequent hospital inpatient care, typically 35 minutes per day                                                                                                                                                                                                    120664\n",
       "Established patient office or other outpatient, visit typically 40 minutes                                                                                                                                                                                          119758\n",
       "Initial hospital inpatient care, typically 50 minutes per day                                                                                                                                                                                                       111447\n",
       "Vaccine for influenza for injection into muscle                                                                                                                                                                                                                     110852\n",
       "Insertion of needle into vein for collection of blood sample                                                                                                                                                                                                         97242\n",
       "Administration of pneumococcal vaccine                                                                                                                                                                                                                               86718\n",
       "Routine EKG using at least 12 leads including interpretation and report                                                                                                                                                                                              84390\n",
       "Annual wellness visit, includes a personalized prevention plan of service (pps), subsequent visit                                                                                                                                                                    76372\n",
       "Vaccine for influenza for administration into muscle, 0.5 ml dosage                                                                                                                                                                                                  70357\n",
       "Injection beneath the skin or into muscle for therapy, diagnosis, or prevention                                                                                                                                                                                      70312\n",
       "Subsequent hospital inpatient care, typically 15 minutes per day                                                                                                                                                                                                     69468\n",
       "Pneumococcal vaccine for injection into muscle                                                                                                                                                                                                                       67293\n",
       "X-ray of chest, 2 views, front and side                                                                                                                                                                                                                              67170\n",
       "Critical care delivery critically ill or injured patient, first 30-74 minutes                                                                                                                                                                                        62680\n",
       "New patient office or other outpatient visit, typically 60 minutes                                                                                                                                                                                                   62427\n",
       "Emergency department visit, problem of high severity                                                                                                                                                                                                                 60805\n",
       "Routine electrocardiogram (EKG) using at least 12 leads with interpretation and report                                                                                                                                                                               59445\n",
       "Emergency department visit, problem with significant threat to life or function                                                                                                                                                                                      57220\n",
       "Therapeutic exercise to develop strength, endurance, range of motion, and flexibility, each 15 minutes                                                                                                                                                               56361\n",
       "Emergency department visit, moderately severe problem                                                                                                                                                                                                                56124\n",
       "Hospital discharge day management, more than 30 minutes                                                                                                                                                                                                              53934\n",
       "Hospital discharge day management, 30 minutes or less                                                                                                                                                                                                                51742\n",
       "                                                                                                                                                                                                                                                                     ...  \n",
       "Incision or removal of tissue below left lower heart valve                                                                                                                                                                                                               1\n",
       "Open treatment of hip socket fractures with insertion of hardware                                                                                                                                                                                                        1\n",
       "Protoporphyrin (metabolism substance) screening test                                                                                                                                                                                                                     1\n",
       "Indium in-111 pentetate, diagnostic, per 0.5 millicurie                                                                                                                                                                                                                  1\n",
       "Removal (5 centimeters or greater) muscle growth in abdominal wall                                                                                                                                                                                                       1\n",
       "Insertion of drain device in anus                                                                                                                                                                                                                                        1\n",
       "Open treatment of ankle dislocation                                                                                                                                                                                                                                      1\n",
       "Relocation of mouth tissue to gum surface                                                                                                                                                                                                                                1\n",
       "Cystine and homocystine (amino acids) analysis                                                                                                                                                                                                                           1\n",
       "Biovance, per square centimeter                                                                                                                                                                                                                                          1\n",
       "Lithium ion battery for use with cochlear implant device speech processor, other than ear level, replacement, each                                                                                                                                                       1\n",
       "Electro or thermal destruction of cervix                                                                                                                                                                                                                                 1\n",
       "Hepatitis b screening in non-pregnant, high risk individual includes hepatitis b surface antigen (hbsag) followed by a neutralizing confirmatory test for initially reactive results, and antibodies to hbsag (anti-hbs) and hepatitis b core antigen (anti-hbc)         1\n",
       "Aspiration of bladder using catheter or trocar                                                                                                                                                                                                                           1\n",
       "Gene analysis (peripheral myelin protein 22), duplication or deletion analysis                                                                                                                                                                                           1\n",
       "Partial removal of spine bone and growth at upper spinal column                                                                                                                                                                                                          1\n",
       "Removal of total salivary gland growth or salivary gland and surrounding lymph nodes on one side of neck                                                                                                                                                                 1\n",
       "Placement of graft for repair of aorta with radiological supervision and interpretation, with 2 artery prostheses                                                                                                                                                        1\n",
       "Incision of spine to correct deformity at middle or lower spinal column                                                                                                                                                                                                  1\n",
       "Mechanical separation of white blood cells from the blood                                                                                                                                                                                                                1\n",
       "Repair of lip and border                                                                                                                                                                                                                                                 1\n",
       "Emergent surgical opening of windpipe for insertion of breathing tube                                                                                                                                                                                                    1\n",
       "Insertion of device to block groin artery                                                                                                                                                                                                                                1\n",
       "Gene analysis (mucolipin 1) common variants                                                                                                                                                                                                                              1\n",
       "Headset/headpiece for use with cochlear implant device, replacement                                                                                                                                                                                                      1\n",
       "Injection, theophylline, per 40 mg                                                                                                                                                                                                                                       1\n",
       "Glucagon (hormone) tolerance panel to evaluate for pheochromocytoma (adrenal gland tumor)                                                                                                                                                                                1\n",
       "Excision of vaginal cyst or tumor                                                                                                                                                                                                                                        1\n",
       "Assessment of antibody to human leukocyte antigens (HLA) with antibody identification by qualitative panel using complete HLA phenotypes, HLA class II                                                                                                                   1\n",
       "Radiological supervision and interpretation of imaging of artery of one adrenal gland                                                                                                                                                                                    1\n",
       "Name: HCPCS Description, Length: 5467, dtype: int64"
      ]
     },
     "execution_count": 27,
     "metadata": {},
     "output_type": "execute_result"
    }
   ],
   "source": [
    "#Frequency of value occurrence for 'HCPCS Description' field\n",
    "medicareproviderdf['HCPCS Description'].value_counts()"
   ]
  },
  {
   "cell_type": "code",
   "execution_count": 28,
   "metadata": {},
   "outputs": [
    {
     "data": {
      "text/plain": [
       "5467"
      ]
     },
     "execution_count": 28,
     "metadata": {},
     "output_type": "execute_result"
    }
   ],
   "source": [
    "#Total number of categories for 'HCPCS Description'\n",
    "len(medicareproviderdf['HCPCS Description'].value_counts())"
   ]
  },
  {
   "cell_type": "code",
   "execution_count": 33,
   "metadata": {},
   "outputs": [
    {
     "data": {
      "text/plain": [
       "I    9416125\n",
       "O     431318\n",
       "Name: Entity Type of the Provider, dtype: int64"
      ]
     },
     "execution_count": 33,
     "metadata": {},
     "output_type": "execute_result"
    }
   ],
   "source": [
    "#Frequency of value occurrence for 'Entity Type of the Provider' field\n",
    "medicareproviderdf['Entity Type of the Provider'].value_counts()"
   ]
  },
  {
   "cell_type": "code",
   "execution_count": 73,
   "metadata": {},
   "outputs": [
    {
     "name": "stdout",
     "output_type": "stream",
     "text": [
      "        National Provider Identifier  \\\n",
      "0                         1003000126   \n",
      "1                         1003000126   \n",
      "2                         1003000126   \n",
      "3                         1003000126   \n",
      "4                         1003000126   \n",
      "5                         1003000126   \n",
      "6                         1003000126   \n",
      "7                         1003000126   \n",
      "8                         1003000126   \n",
      "9                         1003000126   \n",
      "10                        1003000126   \n",
      "11                        1003000134   \n",
      "12                        1003000134   \n",
      "13                        1003000134   \n",
      "14                        1003000134   \n",
      "15                        1003000134   \n",
      "16                        1003000134   \n",
      "17                        1003000134   \n",
      "18                        1003000134   \n",
      "19                        1003000134   \n",
      "20                        1003000134   \n",
      "21                        1003000134   \n",
      "22                        1003000142   \n",
      "23                        1003000142   \n",
      "24                        1003000142   \n",
      "25                        1003000142   \n",
      "26                        1003000142   \n",
      "27                        1003000142   \n",
      "28                        1003000142   \n",
      "29                        1003000142   \n",
      "...                              ...   \n",
      "9847413                   1992999551   \n",
      "9847414                   1992999759   \n",
      "9847415                   1992999759   \n",
      "9847416                   1992999759   \n",
      "9847417                   1992999759   \n",
      "9847418                   1992999759   \n",
      "9847419                   1992999759   \n",
      "9847420                   1992999775   \n",
      "9847421                   1992999775   \n",
      "9847422                   1992999775   \n",
      "9847423                   1992999775   \n",
      "9847424                   1992999775   \n",
      "9847425                   1992999825   \n",
      "9847426                   1992999825   \n",
      "9847427                   1992999825   \n",
      "9847428                   1992999825   \n",
      "9847429                   1992999825   \n",
      "9847430                   1992999825   \n",
      "9847431                   1992999825   \n",
      "9847432                   1992999825   \n",
      "9847433                   1992999825   \n",
      "9847434                   1992999825   \n",
      "9847435                   1992999825   \n",
      "9847436                   1992999825   \n",
      "9847437                   1992999825   \n",
      "9847438                   1992999825   \n",
      "9847439                   1992999874   \n",
      "9847440                   1992999874   \n",
      "9847441                   1992999874   \n",
      "9847442                   1992999874   \n",
      "\n",
      "        Last Name/Organization Name of the Provider  \\\n",
      "0                                         ENKESHAFI   \n",
      "1                                         ENKESHAFI   \n",
      "2                                         ENKESHAFI   \n",
      "3                                         ENKESHAFI   \n",
      "4                                         ENKESHAFI   \n",
      "5                                         ENKESHAFI   \n",
      "6                                         ENKESHAFI   \n",
      "7                                         ENKESHAFI   \n",
      "8                                         ENKESHAFI   \n",
      "9                                         ENKESHAFI   \n",
      "10                                        ENKESHAFI   \n",
      "11                                           CIBULL   \n",
      "12                                           CIBULL   \n",
      "13                                           CIBULL   \n",
      "14                                           CIBULL   \n",
      "15                                           CIBULL   \n",
      "16                                           CIBULL   \n",
      "17                                           CIBULL   \n",
      "18                                           CIBULL   \n",
      "19                                           CIBULL   \n",
      "20                                           CIBULL   \n",
      "21                                           CIBULL   \n",
      "22                                           KHALIL   \n",
      "23                                           KHALIL   \n",
      "24                                           KHALIL   \n",
      "25                                           KHALIL   \n",
      "26                                           KHALIL   \n",
      "27                                           KHALIL   \n",
      "28                                           KHALIL   \n",
      "29                                           KHALIL   \n",
      "...                                             ...   \n",
      "9847413                                       MOLAI   \n",
      "9847414                                     SORIANO   \n",
      "9847415                                     SORIANO   \n",
      "9847416                                     SORIANO   \n",
      "9847417                                     SORIANO   \n",
      "9847418                                     SORIANO   \n",
      "9847419                                     SORIANO   \n",
      "9847420         SPINE SURGERY CENTER OF EUGENE, LLC   \n",
      "9847421         SPINE SURGERY CENTER OF EUGENE, LLC   \n",
      "9847422         SPINE SURGERY CENTER OF EUGENE, LLC   \n",
      "9847423         SPINE SURGERY CENTER OF EUGENE, LLC   \n",
      "9847424         SPINE SURGERY CENTER OF EUGENE, LLC   \n",
      "9847425                                   DESCHENES   \n",
      "9847426                                   DESCHENES   \n",
      "9847427                                   DESCHENES   \n",
      "9847428                                   DESCHENES   \n",
      "9847429                                   DESCHENES   \n",
      "9847430                                   DESCHENES   \n",
      "9847431                                   DESCHENES   \n",
      "9847432                                   DESCHENES   \n",
      "9847433                                   DESCHENES   \n",
      "9847434                                   DESCHENES   \n",
      "9847435                                   DESCHENES   \n",
      "9847436                                   DESCHENES   \n",
      "9847437                                   DESCHENES   \n",
      "9847438                                   DESCHENES   \n",
      "9847439                                       JOFFE   \n",
      "9847440                                       JOFFE   \n",
      "9847441                                       JOFFE   \n",
      "9847442                                       JOFFE   \n",
      "\n",
      "        First Name of the Provider Middle Initial of the Provider  \\\n",
      "0                          ARDALAN                            NaN   \n",
      "1                          ARDALAN                            NaN   \n",
      "2                          ARDALAN                            NaN   \n",
      "3                          ARDALAN                            NaN   \n",
      "4                          ARDALAN                            NaN   \n",
      "5                          ARDALAN                            NaN   \n",
      "6                          ARDALAN                            NaN   \n",
      "7                          ARDALAN                            NaN   \n",
      "8                          ARDALAN                            NaN   \n",
      "9                          ARDALAN                            NaN   \n",
      "10                         ARDALAN                            NaN   \n",
      "11                          THOMAS                              L   \n",
      "12                          THOMAS                              L   \n",
      "13                          THOMAS                              L   \n",
      "14                          THOMAS                              L   \n",
      "15                          THOMAS                              L   \n",
      "16                          THOMAS                              L   \n",
      "17                          THOMAS                              L   \n",
      "18                          THOMAS                              L   \n",
      "19                          THOMAS                              L   \n",
      "20                          THOMAS                              L   \n",
      "21                          THOMAS                              L   \n",
      "22                          RASHID                            NaN   \n",
      "23                          RASHID                            NaN   \n",
      "24                          RASHID                            NaN   \n",
      "25                          RASHID                            NaN   \n",
      "26                          RASHID                            NaN   \n",
      "27                          RASHID                            NaN   \n",
      "28                          RASHID                            NaN   \n",
      "29                          RASHID                            NaN   \n",
      "...                            ...                            ...   \n",
      "9847413                     INDIRA                            NaN   \n",
      "9847414                       DINO                              V   \n",
      "9847415                       DINO                              V   \n",
      "9847416                       DINO                              V   \n",
      "9847417                       DINO                              V   \n",
      "9847418                       DINO                              V   \n",
      "9847419                       DINO                              V   \n",
      "9847420                        NaN                            NaN   \n",
      "9847421                        NaN                            NaN   \n",
      "9847422                        NaN                            NaN   \n",
      "9847423                        NaN                            NaN   \n",
      "9847424                        NaN                            NaN   \n",
      "9847425                   GEOFFREY                              R   \n",
      "9847426                   GEOFFREY                              R   \n",
      "9847427                   GEOFFREY                              R   \n",
      "9847428                   GEOFFREY                              R   \n",
      "9847429                   GEOFFREY                              R   \n",
      "9847430                   GEOFFREY                              R   \n",
      "9847431                   GEOFFREY                              R   \n",
      "9847432                   GEOFFREY                              R   \n",
      "9847433                   GEOFFREY                              R   \n",
      "9847434                   GEOFFREY                              R   \n",
      "9847435                   GEOFFREY                              R   \n",
      "9847436                   GEOFFREY                              R   \n",
      "9847437                   GEOFFREY                              R   \n",
      "9847438                   GEOFFREY                              R   \n",
      "9847439                  GABRIELLA                            NaN   \n",
      "9847440                  GABRIELLA                            NaN   \n",
      "9847441                  GABRIELLA                            NaN   \n",
      "9847442                  GABRIELLA                            NaN   \n",
      "\n",
      "        Credentials of the Provider Gender of the Provider  \\\n",
      "0                              M.D.                      M   \n",
      "1                              M.D.                      M   \n",
      "2                              M.D.                      M   \n",
      "3                              M.D.                      M   \n",
      "4                              M.D.                      M   \n",
      "5                              M.D.                      M   \n",
      "6                              M.D.                      M   \n",
      "7                              M.D.                      M   \n",
      "8                              M.D.                      M   \n",
      "9                              M.D.                      M   \n",
      "10                             M.D.                      M   \n",
      "11                             M.D.                      M   \n",
      "12                             M.D.                      M   \n",
      "13                             M.D.                      M   \n",
      "14                             M.D.                      M   \n",
      "15                             M.D.                      M   \n",
      "16                             M.D.                      M   \n",
      "17                             M.D.                      M   \n",
      "18                             M.D.                      M   \n",
      "19                             M.D.                      M   \n",
      "20                             M.D.                      M   \n",
      "21                             M.D.                      M   \n",
      "22                             M.D.                      M   \n",
      "23                             M.D.                      M   \n",
      "24                             M.D.                      M   \n",
      "25                             M.D.                      M   \n",
      "26                             M.D.                      M   \n",
      "27                             M.D.                      M   \n",
      "28                             M.D.                      M   \n",
      "29                             M.D.                      M   \n",
      "...                             ...                    ...   \n",
      "9847413                        M.D.                      F   \n",
      "9847414            RN MSN HSA FNP-C                      M   \n",
      "9847415            RN MSN HSA FNP-C                      M   \n",
      "9847416            RN MSN HSA FNP-C                      M   \n",
      "9847417            RN MSN HSA FNP-C                      M   \n",
      "9847418            RN MSN HSA FNP-C                      M   \n",
      "9847419            RN MSN HSA FNP-C                      M   \n",
      "9847420                         NaN                    NaN   \n",
      "9847421                         NaN                    NaN   \n",
      "9847422                         NaN                    NaN   \n",
      "9847423                         NaN                    NaN   \n",
      "9847424                         NaN                    NaN   \n",
      "9847425                        M.D.                      M   \n",
      "9847426                        M.D.                      M   \n",
      "9847427                        M.D.                      M   \n",
      "9847428                        M.D.                      M   \n",
      "9847429                        M.D.                      M   \n",
      "9847430                        M.D.                      M   \n",
      "9847431                        M.D.                      M   \n",
      "9847432                        M.D.                      M   \n",
      "9847433                        M.D.                      M   \n",
      "9847434                        M.D.                      M   \n",
      "9847435                        M.D.                      M   \n",
      "9847436                        M.D.                      M   \n",
      "9847437                        M.D.                      M   \n",
      "9847438                        M.D.                      M   \n",
      "9847439                         NaN                      F   \n",
      "9847440                         NaN                      F   \n",
      "9847441                         NaN                      F   \n",
      "9847442                         NaN                      F   \n",
      "\n",
      "        Entity Type of the Provider Street Address 1 of the Provider  \\\n",
      "0                                 I                     900 SETON DR   \n",
      "1                                 I                     900 SETON DR   \n",
      "2                                 I                     900 SETON DR   \n",
      "3                                 I                     900 SETON DR   \n",
      "4                                 I                     900 SETON DR   \n",
      "5                                 I                     900 SETON DR   \n",
      "6                                 I                     900 SETON DR   \n",
      "7                                 I                     900 SETON DR   \n",
      "8                                 I                     900 SETON DR   \n",
      "9                                 I                     900 SETON DR   \n",
      "10                                I                     900 SETON DR   \n",
      "11                                I                   2650 RIDGE AVE   \n",
      "12                                I                   2650 RIDGE AVE   \n",
      "13                                I                   2650 RIDGE AVE   \n",
      "14                                I                   2650 RIDGE AVE   \n",
      "15                                I                   2650 RIDGE AVE   \n",
      "16                                I                   2650 RIDGE AVE   \n",
      "17                                I                   2650 RIDGE AVE   \n",
      "18                                I                   2650 RIDGE AVE   \n",
      "19                                I                   2650 RIDGE AVE   \n",
      "20                                I                   2650 RIDGE AVE   \n",
      "21                                I                   2650 RIDGE AVE   \n",
      "22                                I       4126 N HOLLAND SYLVANIA RD   \n",
      "23                                I       4126 N HOLLAND SYLVANIA RD   \n",
      "24                                I       4126 N HOLLAND SYLVANIA RD   \n",
      "25                                I       4126 N HOLLAND SYLVANIA RD   \n",
      "26                                I       4126 N HOLLAND SYLVANIA RD   \n",
      "27                                I       4126 N HOLLAND SYLVANIA RD   \n",
      "28                                I       4126 N HOLLAND SYLVANIA RD   \n",
      "29                                I       4126 N HOLLAND SYLVANIA RD   \n",
      "...                             ...                              ...   \n",
      "9847413                           I                  625 E GRAND AVE   \n",
      "9847414                           I             171 CLOVER POINT CIR   \n",
      "9847415                           I             171 CLOVER POINT CIR   \n",
      "9847416                           I             171 CLOVER POINT CIR   \n",
      "9847417                           I             171 CLOVER POINT CIR   \n",
      "9847418                           I             171 CLOVER POINT CIR   \n",
      "9847419                           I             171 CLOVER POINT CIR   \n",
      "9847420                           O                      1410 OAK ST   \n",
      "9847421                           O                      1410 OAK ST   \n",
      "9847422                           O                      1410 OAK ST   \n",
      "9847423                           O                      1410 OAK ST   \n",
      "9847424                           O                      1410 OAK ST   \n",
      "9847425                           I                     1100 9TH AVE   \n",
      "9847426                           I                     1100 9TH AVE   \n",
      "9847427                           I                     1100 9TH AVE   \n",
      "9847428                           I                     1100 9TH AVE   \n",
      "9847429                           I                     1100 9TH AVE   \n",
      "9847430                           I                     1100 9TH AVE   \n",
      "9847431                           I                     1100 9TH AVE   \n",
      "9847432                           I                     1100 9TH AVE   \n",
      "9847433                           I                     1100 9TH AVE   \n",
      "9847434                           I                     1100 9TH AVE   \n",
      "9847435                           I                     1100 9TH AVE   \n",
      "9847436                           I                     1100 9TH AVE   \n",
      "9847437                           I                     1100 9TH AVE   \n",
      "9847438                           I                     1100 9TH AVE   \n",
      "9847439                           I                    8260 ATLEE RD   \n",
      "9847440                           I                    8260 ATLEE RD   \n",
      "9847441                           I                    8260 ATLEE RD   \n",
      "9847442                           I                    8260 ATLEE RD   \n",
      "\n",
      "        Street Address 2 of the Provider City of the Provider  \\\n",
      "0                                    NaN           CUMBERLAND   \n",
      "1                                    NaN           CUMBERLAND   \n",
      "2                                    NaN           CUMBERLAND   \n",
      "3                                    NaN           CUMBERLAND   \n",
      "4                                    NaN           CUMBERLAND   \n",
      "5                                    NaN           CUMBERLAND   \n",
      "6                                    NaN           CUMBERLAND   \n",
      "7                                    NaN           CUMBERLAND   \n",
      "8                                    NaN           CUMBERLAND   \n",
      "9                                    NaN           CUMBERLAND   \n",
      "10                                   NaN           CUMBERLAND   \n",
      "11                     EVANSTON HOSPITAL             EVANSTON   \n",
      "12                     EVANSTON HOSPITAL             EVANSTON   \n",
      "13                     EVANSTON HOSPITAL             EVANSTON   \n",
      "14                     EVANSTON HOSPITAL             EVANSTON   \n",
      "15                     EVANSTON HOSPITAL             EVANSTON   \n",
      "16                     EVANSTON HOSPITAL             EVANSTON   \n",
      "17                     EVANSTON HOSPITAL             EVANSTON   \n",
      "18                     EVANSTON HOSPITAL             EVANSTON   \n",
      "19                     EVANSTON HOSPITAL             EVANSTON   \n",
      "20                     EVANSTON HOSPITAL             EVANSTON   \n",
      "21                     EVANSTON HOSPITAL             EVANSTON   \n",
      "22                             SUITE 220               TOLEDO   \n",
      "23                             SUITE 220               TOLEDO   \n",
      "24                             SUITE 220               TOLEDO   \n",
      "25                             SUITE 220               TOLEDO   \n",
      "26                             SUITE 220               TOLEDO   \n",
      "27                             SUITE 220               TOLEDO   \n",
      "28                             SUITE 220               TOLEDO   \n",
      "29                             SUITE 220               TOLEDO   \n",
      "...                                  ...                  ...   \n",
      "9847413                              NaN            ESCONDIDO   \n",
      "9847414                              NaN               GUYTON   \n",
      "9847415                              NaN               GUYTON   \n",
      "9847416                              NaN               GUYTON   \n",
      "9847417                              NaN               GUYTON   \n",
      "9847418                              NaN               GUYTON   \n",
      "9847419                              NaN               GUYTON   \n",
      "9847420                        SUITE 300               EUGENE   \n",
      "9847421                        SUITE 300               EUGENE   \n",
      "9847422                        SUITE 300               EUGENE   \n",
      "9847423                        SUITE 300               EUGENE   \n",
      "9847424                        SUITE 300               EUGENE   \n",
      "9847425                        MS:M4-PFS              SEATTLE   \n",
      "9847426                        MS:M4-PFS              SEATTLE   \n",
      "9847427                        MS:M4-PFS              SEATTLE   \n",
      "9847428                        MS:M4-PFS              SEATTLE   \n",
      "9847429                        MS:M4-PFS              SEATTLE   \n",
      "9847430                        MS:M4-PFS              SEATTLE   \n",
      "9847431                        MS:M4-PFS              SEATTLE   \n",
      "9847432                        MS:M4-PFS              SEATTLE   \n",
      "9847433                        MS:M4-PFS              SEATTLE   \n",
      "9847434                        MS:M4-PFS              SEATTLE   \n",
      "9847435                        MS:M4-PFS              SEATTLE   \n",
      "9847436                        MS:M4-PFS              SEATTLE   \n",
      "9847437                        MS:M4-PFS              SEATTLE   \n",
      "9847438                        MS:M4-PFS              SEATTLE   \n",
      "9847439                 MOB 2, SUITE 319       MECHANICSVILLE   \n",
      "9847440                 MOB 2, SUITE 319       MECHANICSVILLE   \n",
      "9847441                 MOB 2, SUITE 319       MECHANICSVILLE   \n",
      "9847442                 MOB 2, SUITE 319       MECHANICSVILLE   \n",
      "\n",
      "                        ...                  HCPCS Code  \\\n",
      "0                       ...                       99217   \n",
      "1                       ...                       99218   \n",
      "2                       ...                       99219   \n",
      "3                       ...                       99220   \n",
      "4                       ...                       99221   \n",
      "5                       ...                       99222   \n",
      "6                       ...                       99223   \n",
      "7                       ...                       99232   \n",
      "8                       ...                       99233   \n",
      "9                       ...                       99239   \n",
      "10                      ...                       99291   \n",
      "11                      ...                       88304   \n",
      "12                      ...                       88305   \n",
      "13                      ...                       88312   \n",
      "14                      ...                       88313   \n",
      "15                      ...                       88321   \n",
      "16                      ...                       88341   \n",
      "17                      ...                       88342   \n",
      "18                      ...                       88344   \n",
      "19                      ...                       88346   \n",
      "20                      ...                       88360   \n",
      "21                      ...                       88381   \n",
      "22                      ...                       20611   \n",
      "23                      ...                       62323   \n",
      "24                      ...                       63650   \n",
      "25                      ...                       64483   \n",
      "26                      ...                       64484   \n",
      "27                      ...                       64490   \n",
      "28                      ...                       64491   \n",
      "29                      ...                       64492   \n",
      "...                     ...                         ...   \n",
      "9847413                 ...                       G0439   \n",
      "9847414                 ...                       81003   \n",
      "9847415                 ...                       94640   \n",
      "9847416                 ...                       99204   \n",
      "9847417                 ...                       99213   \n",
      "9847418                 ...                       99214   \n",
      "9847419                 ...                       J7620   \n",
      "9847420                 ...                       62321   \n",
      "9847421                 ...                       62323   \n",
      "9847422                 ...                       63047   \n",
      "9847423                 ...                       64483   \n",
      "9847424                 ...                       G0260   \n",
      "9847425                 ...                       30140   \n",
      "9847426                 ...                       30520   \n",
      "9847427                 ...                       30901   \n",
      "9847428                 ...                       31231   \n",
      "9847429                 ...                       31575   \n",
      "9847430                 ...                       31575   \n",
      "9847431                 ...                       69210   \n",
      "9847432                 ...                       69210   \n",
      "9847433                 ...                       99203   \n",
      "9847434                 ...                       99203   \n",
      "9847435                 ...                       99204   \n",
      "9847436                 ...                       99204   \n",
      "9847437                 ...                       99214   \n",
      "9847438                 ...                       99214   \n",
      "9847439                 ...                       99223   \n",
      "9847440                 ...                       99232   \n",
      "9847441                 ...                       99233   \n",
      "9847442                 ...                       99239   \n",
      "\n",
      "                                         HCPCS Description  \\\n",
      "0                      Hospital observation care discharge   \n",
      "1           Hospital observation care typically 30 minutes   \n",
      "2           Hospital observation care typically 50 minutes   \n",
      "3        Hospital observation care typically 70 minutes...   \n",
      "4        Initial hospital inpatient care, typically 30 ...   \n",
      "5        Initial hospital inpatient care, typically 50 ...   \n",
      "6        Initial hospital inpatient care, typically 70 ...   \n",
      "7        Subsequent hospital inpatient care, typically ...   \n",
      "8        Subsequent hospital inpatient care, typically ...   \n",
      "9        Hospital discharge day management, more than 3...   \n",
      "10       Critical care delivery critically ill or injur...   \n",
      "11       Pathology examination of tissue using a micros...   \n",
      "12       Pathology examination of tissue using a micros...   \n",
      "13       Special stained specimen slides to identify or...   \n",
      "14       Special stained specimen slides to examine tis...   \n",
      "15              Surgical pathology consultation and report   \n",
      "16       Special stained specimen slides to examine tissue   \n",
      "17        Tissue or cell analysis by immunologic technique   \n",
      "18       Special stained specimen slides to examine tissue   \n",
      "19                                     Antibody evaluation   \n",
      "20                   Microscopic genetic analysis of tumor   \n",
      "21                         Preparation of specimen, manual   \n",
      "22       Aspiration and/or injection of major joint or ...   \n",
      "23       Injection of substance into spinal canal of lo...   \n",
      "24       Implantation of spinal neurostimulator electro...   \n",
      "25       Injections of anesthetic and/or steroid drug i...   \n",
      "26       Injections of anesthetic and/or steroid drug i...   \n",
      "27       Injections of upper or middle spine facet join...   \n",
      "28       Injections of upper or middle spine facet join...   \n",
      "29       Injections of upper or middle spine facet join...   \n",
      "...                                                    ...   \n",
      "9847413  Annual wellness visit, includes a personalized...   \n",
      "9847414                          Automated urinalysis test   \n",
      "9847415  Respiratory inhaled pressure or nonpressure tr...   \n",
      "9847416  New patient office or other outpatient visit, ...   \n",
      "9847417  Established patient office or other outpatient...   \n",
      "9847418  Established patient office or other outpatient...   \n",
      "9847419  Albuterol, up to 2.5 mg and ipratropium bromid...   \n",
      "9847420  Injection of substance into spinal canal of up...   \n",
      "9847421  Injection of substance into spinal canal of lo...   \n",
      "9847422  Partial removal of middle spine bone with rele...   \n",
      "9847423  Injections of anesthetic and/or steroid drug i...   \n",
      "9847424  Injection procedure for sacroiliac joint; prov...   \n",
      "9847425                       Removal of nasal air passage   \n",
      "9847426                       Reshaping of nasal cartilage   \n",
      "9847427                       Simple control of nose bleed   \n",
      "9847428  Diagnostic examination of nasal passages using...   \n",
      "9847429  Diagnostic examination of voice box using flex...   \n",
      "9847430  Diagnostic examination of voice box using flex...   \n",
      "9847431                 Removal of impact ear wax, one ear   \n",
      "9847432                 Removal of impact ear wax, one ear   \n",
      "9847433  New patient office or other outpatient visit, ...   \n",
      "9847434  New patient office or other outpatient visit, ...   \n",
      "9847435  New patient office or other outpatient visit, ...   \n",
      "9847436  New patient office or other outpatient visit, ...   \n",
      "9847437  Established patient office or other outpatient...   \n",
      "9847438  Established patient office or other outpatient...   \n",
      "9847439  Initial hospital inpatient care, typically 70 ...   \n",
      "9847440  Subsequent hospital inpatient care, typically ...   \n",
      "9847441  Subsequent hospital inpatient care, typically ...   \n",
      "9847442  Hospital discharge day management, more than 3...   \n",
      "\n",
      "        HCPCS Drug Indicator  \\\n",
      "0                          N   \n",
      "1                          N   \n",
      "2                          N   \n",
      "3                          N   \n",
      "4                          N   \n",
      "5                          N   \n",
      "6                          N   \n",
      "7                          N   \n",
      "8                          N   \n",
      "9                          N   \n",
      "10                         N   \n",
      "11                         N   \n",
      "12                         N   \n",
      "13                         N   \n",
      "14                         N   \n",
      "15                         N   \n",
      "16                         N   \n",
      "17                         N   \n",
      "18                         N   \n",
      "19                         N   \n",
      "20                         N   \n",
      "21                         N   \n",
      "22                         N   \n",
      "23                         N   \n",
      "24                         N   \n",
      "25                         N   \n",
      "26                         N   \n",
      "27                         N   \n",
      "28                         N   \n",
      "29                         N   \n",
      "...                      ...   \n",
      "9847413                    N   \n",
      "9847414                    N   \n",
      "9847415                    N   \n",
      "9847416                    N   \n",
      "9847417                    N   \n",
      "9847418                    N   \n",
      "9847419                    Y   \n",
      "9847420                    N   \n",
      "9847421                    N   \n",
      "9847422                    N   \n",
      "9847423                    N   \n",
      "9847424                    N   \n",
      "9847425                    N   \n",
      "9847426                    N   \n",
      "9847427                    N   \n",
      "9847428                    N   \n",
      "9847429                    N   \n",
      "9847430                    N   \n",
      "9847431                    N   \n",
      "9847432                    N   \n",
      "9847433                    N   \n",
      "9847434                    N   \n",
      "9847435                    N   \n",
      "9847436                    N   \n",
      "9847437                    N   \n",
      "9847438                    N   \n",
      "9847439                    N   \n",
      "9847440                    N   \n",
      "9847441                    N   \n",
      "9847442                    N   \n",
      "\n",
      "        Number of Distinct Medicare Beneficiary/Per Day Services  \\\n",
      "0                                                      100         \n",
      "1                                                       26         \n",
      "2                                                       52         \n",
      "3                                                       59         \n",
      "4                                                       16         \n",
      "5                                                       59         \n",
      "6                                                      114         \n",
      "7                                                      627         \n",
      "8                                                      207         \n",
      "9                                                      341         \n",
      "10                                                      36         \n",
      "11                                                     252         \n",
      "12                                                   4,489         \n",
      "13                                                     294         \n",
      "14                                                      65         \n",
      "15                                                      27         \n",
      "16                                                     118         \n",
      "17                                                     176         \n",
      "18                                                     326         \n",
      "19                                                      83         \n",
      "20                                                      28         \n",
      "21                                                      18         \n",
      "22                                                      34         \n",
      "23                                                      40         \n",
      "24                                                      17         \n",
      "25                                                      61         \n",
      "26                                                      31         \n",
      "27                                                      22         \n",
      "28                                                      22         \n",
      "29                                                      22         \n",
      "...                                                    ...         \n",
      "9847413                                                 14         \n",
      "9847414                                                 32         \n",
      "9847415                                                 23         \n",
      "9847416                                                 28         \n",
      "9847417                                                 37         \n",
      "9847418                                                177         \n",
      "9847419                                                 27         \n",
      "9847420                                                 36         \n",
      "9847421                                                 48         \n",
      "9847422                                                 22         \n",
      "9847423                                                 49         \n",
      "9847424                                                 24         \n",
      "9847425                                                 18         \n",
      "9847426                                                 12         \n",
      "9847427                                                 14         \n",
      "9847428                                                 16         \n",
      "9847429                                                 19         \n",
      "9847430                                                 63         \n",
      "9847431                                                 13         \n",
      "9847432                                                104         \n",
      "9847433                                                 37         \n",
      "9847434                                                 88         \n",
      "9847435                                                 83         \n",
      "9847436                                                105         \n",
      "9847437                                                103         \n",
      "9847438                                                248         \n",
      "9847439                                                 41         \n",
      "9847440                                                101         \n",
      "9847441                                                102         \n",
      "9847442                                                 49         \n",
      "\n",
      "        Average Medicare Allowed Amount_new  \\\n",
      "0                                 73.398800   \n",
      "1                                100.080000   \n",
      "2                                136.380000   \n",
      "3                                190.363729   \n",
      "4                                101.680000   \n",
      "5                                137.310000   \n",
      "6                                206.061579   \n",
      "7                                 72.622456   \n",
      "8                                106.653913   \n",
      "9                                108.363284   \n",
      "10                               224.170000   \n",
      "11                                12.789739   \n",
      "12                                41.299942   \n",
      "13                                29.240251   \n",
      "14                                13.137558   \n",
      "15                                92.750000   \n",
      "16                                30.710000   \n",
      "17                                38.740000   \n",
      "18                                42.389758   \n",
      "19                                39.110000   \n",
      "20                                59.210000   \n",
      "21                                27.020000   \n",
      "22                                73.095143   \n",
      "23                               101.090000   \n",
      "24                               312.454545   \n",
      "25                               135.601967   \n",
      "26                                53.102903   \n",
      "27                               113.559091   \n",
      "28                                64.838636   \n",
      "29                                65.543636   \n",
      "...                                     ...   \n",
      "9847413                          122.910000   \n",
      "9847414                            2.430000   \n",
      "9847415                           15.910000   \n",
      "9847416                          139.420000   \n",
      "9847417                           62.380000   \n",
      "9847418                           91.770000   \n",
      "9847419                            0.139667   \n",
      "9847420                          288.477778   \n",
      "9847421                          296.720000   \n",
      "9847422                         2803.287273   \n",
      "9847423                          325.651667   \n",
      "9847424                          256.258182   \n",
      "9847425                          722.144444   \n",
      "9847426                          369.373333   \n",
      "9847427                          104.080000   \n",
      "9847428                          237.250000   \n",
      "9847429                           73.880000   \n",
      "9847430                          127.160000   \n",
      "9847431                           34.990000   \n",
      "9847432                           52.807212   \n",
      "9847433                           80.910000   \n",
      "9847434                          117.260000   \n",
      "9847435                          137.240000   \n",
      "9847436                          176.900000   \n",
      "9847437                           83.400000   \n",
      "9847438                          116.860000   \n",
      "9847439                          203.400000   \n",
      "9847440                           72.480000   \n",
      "9847441                          104.760000   \n",
      "9847442                          107.980000   \n",
      "\n",
      "        Average Submitted Charge Amount_new  \\\n",
      "0                                325.780000   \n",
      "1                                449.000000   \n",
      "2                                614.000000   \n",
      "3                                755.932203   \n",
      "4                                462.812500   \n",
      "5                                625.000000   \n",
      "6                                923.991228   \n",
      "7                                326.245614   \n",
      "8                                461.072464   \n",
      "9                                481.686217   \n",
      "10                              1400.000000   \n",
      "11                               115.000000   \n",
      "12                               170.000000   \n",
      "13                                88.000000   \n",
      "14                                68.000000   \n",
      "15                               273.555556   \n",
      "16                                76.083117   \n",
      "17                               146.757895   \n",
      "18                               124.820823   \n",
      "19                               175.000000   \n",
      "20                               182.000000   \n",
      "21                               179.000000   \n",
      "22                               142.800000   \n",
      "23                               159.000000   \n",
      "24                               707.000000   \n",
      "25                               392.213115   \n",
      "26                               139.354839   \n",
      "27                               202.272727   \n",
      "28                               112.500000   \n",
      "29                               113.636364   \n",
      "...                                     ...   \n",
      "9847413                          245.000000   \n",
      "9847414                            6.640000   \n",
      "9847415                           31.900000   \n",
      "9847416                          417.000000   \n",
      "9847417                          183.000000   \n",
      "9847418                          272.000000   \n",
      "9847419                            0.700000   \n",
      "9847420                         1500.000000   \n",
      "9847421                         1500.000000   \n",
      "9847422                         7500.000000   \n",
      "9847423                         1500.000000   \n",
      "9847424                         1481.818182   \n",
      "9847425                         1987.500000   \n",
      "9847426                         1866.000000   \n",
      "9847427                          284.000000   \n",
      "9847428                          656.000000   \n",
      "9847429                          347.000000   \n",
      "9847430                          347.000000   \n",
      "9847431                          147.000000   \n",
      "9847432                          147.000000   \n",
      "9847433                          143.000000   \n",
      "9847434                          290.000000   \n",
      "9847435                          284.000000   \n",
      "9847436                          431.000000   \n",
      "9847437                          198.000000   \n",
      "9847438                          345.000000   \n",
      "9847439                          496.000000   \n",
      "9847440                          176.000000   \n",
      "9847441                          254.000000   \n",
      "9847442                          262.000000   \n",
      "\n",
      "        Average Medicare Payment Amount_new  \\\n",
      "0                                 56.827200   \n",
      "1                                 78.460000   \n",
      "2                                102.807692   \n",
      "3                                141.293559   \n",
      "4                                 79.710000   \n",
      "5                                105.825424   \n",
      "6                                160.377193   \n",
      "7                                 56.366730   \n",
      "8                                 82.820676   \n",
      "9                                 84.056158   \n",
      "10                               175.750000   \n",
      "11                                 9.842127   \n",
      "12                                31.426415   \n",
      "13                                22.700525   \n",
      "14                                10.298140   \n",
      "15                                67.333333   \n",
      "16                                23.770078   \n",
      "17                                29.744474   \n",
      "18                                32.531162   \n",
      "19                                29.345000   \n",
      "20                                45.349697   \n",
      "21                                21.189583   \n",
      "22                                53.834286   \n",
      "23                                79.250000   \n",
      "24                               243.684848   \n",
      "25                               102.811148   \n",
      "26                                41.630968   \n",
      "27                                89.033636   \n",
      "28                                50.834091   \n",
      "29                                51.389545   \n",
      "...                                     ...   \n",
      "9847413                          120.450000   \n",
      "9847414                            2.380000   \n",
      "9847415                           12.209130   \n",
      "9847416                          105.406071   \n",
      "9847417                           47.578378   \n",
      "9847418                           68.038870   \n",
      "9847419                            0.107667   \n",
      "9847420                          219.702222   \n",
      "9847421                          226.542500   \n",
      "9847422                         2197.769091   \n",
      "9847423                          248.943030   \n",
      "9847424                          196.561515   \n",
      "9847425                          558.196667   \n",
      "9847426                          289.586667   \n",
      "9847427                           75.420714   \n",
      "9847428                          177.033125   \n",
      "9847429                           48.774737   \n",
      "9847430                           94.053175   \n",
      "9847431                           25.320000   \n",
      "9847432                           37.847308   \n",
      "9847433                           56.712973   \n",
      "9847434                           84.541023   \n",
      "9847435                          102.023614   \n",
      "9847436                          124.930381   \n",
      "9847437                           61.235146   \n",
      "9847438                           85.637177   \n",
      "9847439                          225.564634   \n",
      "9847440                           83.200000   \n",
      "9847441                          119.450784   \n",
      "9847442                          123.950000   \n",
      "\n",
      "        Average Medicare Standardized Amount_new Number of Services_new  \\\n",
      "0                                      57.492400                  100.0   \n",
      "1                                      79.306154                   26.0   \n",
      "2                                     103.895385                   52.0   \n",
      "3                                     142.865763                   59.0   \n",
      "4                                      80.750000                   16.0   \n",
      "5                                     107.070678                   59.0   \n",
      "6                                     160.026316                  114.0   \n",
      "7                                      57.047895                  627.0   \n",
      "8                                      83.196039                  207.0   \n",
      "9                                      84.955132                  341.0   \n",
      "10                                    177.656667                   36.0   \n",
      "11                                      9.390821                  268.0   \n",
      "12                                     30.401900                 6162.0   \n",
      "13                                     22.163379                  438.0   \n",
      "14                                      9.849535                   86.0   \n",
      "15                                     64.083333                   27.0   \n",
      "16                                     23.170961                  385.0   \n",
      "17                                     28.780158                  190.0   \n",
      "18                                     31.550678                  413.0   \n",
      "19                                     28.841310                   84.0   \n",
      "20                                     43.949697                   33.0   \n",
      "21                                     20.567083                   24.0   \n",
      "22                                     55.245714                   35.0   \n",
      "23                                     81.310000                   40.0   \n",
      "24                                    195.244848                   33.0   \n",
      "25                                    106.001967                   61.0   \n",
      "26                                     42.606129                   31.0   \n",
      "27                                     91.671364                   22.0   \n",
      "28                                     51.989091                   22.0   \n",
      "29                                     52.597273                   22.0   \n",
      "...                                          ...                    ...   \n",
      "9847413                               115.360000                   14.0   \n",
      "9847414                                 3.020000                   32.0   \n",
      "9847415                                12.575217                   23.0   \n",
      "9847416                               106.797500                   28.0   \n",
      "9847417                                49.602703                   37.0   \n",
      "9847418                                69.450282                  177.0   \n",
      "9847419                                 0.111333                   30.0   \n",
      "9847420                               202.561667                   36.0   \n",
      "9847421                               208.912500                   48.0   \n",
      "9847422                              2031.212727                   22.0   \n",
      "9847423                               229.592121                   66.0   \n",
      "9847424                               181.334242                   33.0   \n",
      "9847425                               493.563333                   18.0   \n",
      "9847426                               269.002500                   12.0   \n",
      "9847427                                70.202143                   14.0   \n",
      "9847428                               157.603125                   16.0   \n",
      "9847429                                45.962105                   19.0   \n",
      "9847430                                85.662698                   63.0   \n",
      "9847431                                24.415385                   13.0   \n",
      "9847432                                36.032404                  104.0   \n",
      "9847433                                54.526216                   37.0   \n",
      "9847434                                79.799659                   88.0   \n",
      "9847435                                97.797711                   83.0   \n",
      "9847436                               117.928762                  105.0   \n",
      "9847437                                58.485243                  103.0   \n",
      "9847438                                80.263065                  248.0   \n",
      "9847439                               155.800732                   41.0   \n",
      "9847440                                57.390000                  101.0   \n",
      "9847441                                82.450490                  102.0   \n",
      "9847442                                85.540000                   49.0   \n",
      "\n",
      "        Number of Medicare Beneficiaries_new  \n",
      "0                                         96  \n",
      "1                                         25  \n",
      "2                                         51  \n",
      "3                                         59  \n",
      "4                                         16  \n",
      "5                                         57  \n",
      "6                                        110  \n",
      "7                                        233  \n",
      "8                                        127  \n",
      "9                                        291  \n",
      "10                                        23  \n",
      "11                                       249  \n",
      "12                                      3481  \n",
      "13                                       289  \n",
      "14                                        63  \n",
      "15                                        27  \n",
      "16                                       117  \n",
      "17                                       173  \n",
      "18                                       304  \n",
      "19                                        83  \n",
      "20                                        28  \n",
      "21                                        17  \n",
      "22                                        21  \n",
      "23                                        32  \n",
      "24                                        13  \n",
      "25                                        48  \n",
      "26                                        25  \n",
      "27                                        14  \n",
      "28                                        14  \n",
      "29                                        14  \n",
      "...                                      ...  \n",
      "9847413                                   14  \n",
      "9847414                                   32  \n",
      "9847415                                   23  \n",
      "9847416                                   28  \n",
      "9847417                                   37  \n",
      "9847418                                  170  \n",
      "9847419                                   27  \n",
      "9847420                                   33  \n",
      "9847421                                   40  \n",
      "9847422                                   22  \n",
      "9847423                                   42  \n",
      "9847424                                   20  \n",
      "9847425                                   18  \n",
      "9847426                                   12  \n",
      "9847427                                   14  \n",
      "9847428                                   13  \n",
      "9847429                                   17  \n",
      "9847430                                   56  \n",
      "9847431                                   13  \n",
      "9847432                                   92  \n",
      "9847433                                   37  \n",
      "9847434                                   88  \n",
      "9847435                                   83  \n",
      "9847436                                  105  \n",
      "9847437                                   84  \n",
      "9847438                                  175  \n",
      "9847439                                   41  \n",
      "9847440                                   57  \n",
      "9847441                                   55  \n",
      "9847442                                   49  \n",
      "\n",
      "[9847443 rows x 26 columns]\n"
     ]
    }
   ],
   "source": [
    "#Creating functions to mutate columns to their right dtypes \n",
    "\n",
    "def clean_double(input):\n",
    "    input = input.replace(',','')\n",
    "    return float(input)\n",
    "\n",
    "def clean_int(input):\n",
    "    input = input.replace(',','')\n",
    "    return int(input)\n",
    "\n",
    "print(medicareproviderdf)\n",
    "\n",
    "colname = 'Number of Distinct Medicare Beneficiary/Per Day Services'\n",
    "\n",
    "medicareproviderdf[colname +'_new'] = medicareproviderdf[colname].apply(lambda x: clean_int(x))\n",
    "del medicareproviderdf[colname]\n"
   ]
  },
  {
   "cell_type": "code",
   "execution_count": 75,
   "metadata": {},
   "outputs": [
    {
     "data": {
      "text/plain": [
       "National Provider Identifier                                     object\n",
       "Last Name/Organization Name of the Provider                      object\n",
       "First Name of the Provider                                       object\n",
       "Middle Initial of the Provider                                   object\n",
       "Credentials of the Provider                                      object\n",
       "Gender of the Provider                                           object\n",
       "Entity Type of the Provider                                      object\n",
       "Street Address 1 of the Provider                                 object\n",
       "Street Address 2 of the Provider                                 object\n",
       "City of the Provider                                             object\n",
       "Zip Code of the Provider                                         object\n",
       "State Code of the Provider                                       object\n",
       "Country Code of the Provider                                     object\n",
       "Provider Type                                                    object\n",
       "Medicare Participation Indicator                                 object\n",
       "Place of Service                                                 object\n",
       "HCPCS Code                                                       object\n",
       "HCPCS Description                                                object\n",
       "HCPCS Drug Indicator                                             object\n",
       "Average Medicare Allowed Amount_new                             float64\n",
       "Average Submitted Charge Amount_new                             float64\n",
       "Average Medicare Payment Amount_new                             float64\n",
       "Average Medicare Standardized Amount_new                        float64\n",
       "Number of Services_new                                          float64\n",
       "Number of Medicare Beneficiaries_new                              int64\n",
       "Number of Distinct Medicare Beneficiary/Per Day Services_new      int64\n",
       "dtype: object"
      ]
     },
     "execution_count": 75,
     "metadata": {},
     "output_type": "execute_result"
    }
   ],
   "source": [
    "medicareproviderdf.dtypes"
   ]
  },
  {
   "cell_type": "code",
   "execution_count": 76,
   "metadata": {},
   "outputs": [
    {
     "data": {
      "text/plain": [
       "count    9.847443e+06\n",
       "mean     2.448553e+02\n",
       "std      5.122602e+03\n",
       "min      2.400000e+00\n",
       "25%      2.100000e+01\n",
       "50%      4.300000e+01\n",
       "75%      1.170000e+02\n",
       "max      7.195536e+06\n",
       "Name: Number of Services_new, dtype: float64"
      ]
     },
     "execution_count": 76,
     "metadata": {},
     "output_type": "execute_result"
    }
   ],
   "source": [
    "#Quantiile Statistics\n",
    "medicareproviderdf['Number of Services_new'].describe()"
   ]
  },
  {
   "cell_type": "code",
   "execution_count": 77,
   "metadata": {},
   "outputs": [
    {
     "data": {
      "text/plain": [
       "count    9.847443e+06\n",
       "mean     8.777250e+01\n",
       "std      1.167731e+03\n",
       "min      1.100000e+01\n",
       "25%      1.700000e+01\n",
       "50%      3.200000e+01\n",
       "75%      7.500000e+01\n",
       "max      7.928730e+05\n",
       "Name: Number of Medicare Beneficiaries_new, dtype: float64"
      ]
     },
     "execution_count": 77,
     "metadata": {},
     "output_type": "execute_result"
    }
   ],
   "source": [
    "#Quantiile Statistics\n",
    "medicareproviderdf['Number of Medicare Beneficiaries_new'].describe()"
   ]
  },
  {
   "cell_type": "code",
   "execution_count": 78,
   "metadata": {},
   "outputs": [
    {
     "data": {
      "text/plain": [
       "count    9.847443e+06\n",
       "mean     1.403349e+02\n",
       "std      1.985972e+03\n",
       "min      1.100000e+01\n",
       "25%      2.000000e+01\n",
       "50%      4.000000e+01\n",
       "75%      1.060000e+02\n",
       "max      1.504215e+06\n",
       "Name: Number of Distinct Medicare Beneficiary/Per Day Services_new, dtype: float64"
      ]
     },
     "execution_count": 78,
     "metadata": {},
     "output_type": "execute_result"
    }
   ],
   "source": [
    "#Quantiile Statistics\n",
    "\n",
    "medicareproviderdf['Number of Distinct Medicare Beneficiary/Per Day Services_new'].describe()"
   ]
  },
  {
   "cell_type": "code",
   "execution_count": 10,
   "metadata": {},
   "outputs": [],
   "source": [
    "baseproviderdf= pd.read_csv('Base_Provider_Enrollment_File.csv', dtype={\"NPI\":'str', \"PECOS_ASCT_CNTL_ID\" : 'str', \"ENRLMT_ID\": 'str', \"PROVIDER_TYPE_CD\":'str', \"PROVIDER_TYPE_DESC\":'str',\"STATE_CD\":'str', \"FIRST_NAME\":'str', \"MDL_NAME\":'str', \"LAST_NAME\":'str', \"ORG_NAME\":'str', \"GNDR_SW\":'str'})"
   ]
  },
  {
   "cell_type": "code",
   "execution_count": 8,
   "metadata": {},
   "outputs": [
    {
     "data": {
      "text/plain": [
       "(2349910, 11)"
      ]
     },
     "execution_count": 8,
     "metadata": {},
     "output_type": "execute_result"
    }
   ],
   "source": [
    "#Finding the number of rows and columns\n",
    "baseproviderdf.shape"
   ]
  },
  {
   "cell_type": "code",
   "execution_count": 11,
   "metadata": {},
   "outputs": [
    {
     "data": {
      "text/plain": [
       "array([10, 10, 15,  5, 92,  2, 25, 25, 33, 70,  3])"
      ]
     },
     "execution_count": 11,
     "metadata": {},
     "output_type": "execute_result"
    }
   ],
   "source": [
    "measurer(baseproviderdf.select_dtypes(include=[object]).values.astype(str)).max(axis=0)"
   ]
  },
  {
   "cell_type": "code",
   "execution_count": 12,
   "metadata": {},
   "outputs": [
    {
     "data": {
      "text/html": [
       "<div>\n",
       "<style scoped>\n",
       "    .dataframe tbody tr th:only-of-type {\n",
       "        vertical-align: middle;\n",
       "    }\n",
       "\n",
       "    .dataframe tbody tr th {\n",
       "        vertical-align: top;\n",
       "    }\n",
       "\n",
       "    .dataframe thead th {\n",
       "        text-align: right;\n",
       "    }\n",
       "</style>\n",
       "<table border=\"1\" class=\"dataframe\">\n",
       "  <thead>\n",
       "    <tr style=\"text-align: right;\">\n",
       "      <th></th>\n",
       "      <th>NPI</th>\n",
       "      <th>PECOS_ASCT_CNTL_ID</th>\n",
       "      <th>ENRLMT_ID</th>\n",
       "      <th>PROVIDER_TYPE_CD</th>\n",
       "      <th>PROVIDER_TYPE_DESC</th>\n",
       "      <th>STATE_CD</th>\n",
       "      <th>FIRST_NAME</th>\n",
       "      <th>MDL_NAME</th>\n",
       "      <th>LAST_NAME</th>\n",
       "      <th>ORG_NAME</th>\n",
       "      <th>GNDR_SW</th>\n",
       "    </tr>\n",
       "  </thead>\n",
       "  <tbody>\n",
       "    <tr>\n",
       "      <th>0</th>\n",
       "      <td>1003879883</td>\n",
       "      <td>8022920719</td>\n",
       "      <td>I20031103000001</td>\n",
       "      <td>14-16</td>\n",
       "      <td>PRACTITIONER - OBSTETRICS/GYNECOLOGY</td>\n",
       "      <td>PR</td>\n",
       "      <td>ANTONIO</td>\n",
       "      <td>NaN</td>\n",
       "      <td>ALVAREZ RODRIGUEZ</td>\n",
       "      <td>NaN</td>\n",
       "      <td>M</td>\n",
       "    </tr>\n",
       "    <tr>\n",
       "      <th>1</th>\n",
       "      <td>1003976986</td>\n",
       "      <td>7113839812</td>\n",
       "      <td>I20031103000005</td>\n",
       "      <td>14-68</td>\n",
       "      <td>PRACTITIONER - PSYCHOLOGIST, CLINICAL</td>\n",
       "      <td>PA</td>\n",
       "      <td>CHRISTOPHER</td>\n",
       "      <td>J</td>\n",
       "      <td>ZIEGLER</td>\n",
       "      <td>NaN</td>\n",
       "      <td>M</td>\n",
       "    </tr>\n",
       "    <tr>\n",
       "      <th>2</th>\n",
       "      <td>1407802119</td>\n",
       "      <td>8022920727</td>\n",
       "      <td>I20031103000007</td>\n",
       "      <td>14-93</td>\n",
       "      <td>PRACTITIONER - EMERGENCY MEDICINE</td>\n",
       "      <td>PA</td>\n",
       "      <td>KADISHA</td>\n",
       "      <td>B</td>\n",
       "      <td>RAPP</td>\n",
       "      <td>NaN</td>\n",
       "      <td>F</td>\n",
       "    </tr>\n",
       "    <tr>\n",
       "      <th>3</th>\n",
       "      <td>1831165075</td>\n",
       "      <td>5193637890</td>\n",
       "      <td>I20031103000013</td>\n",
       "      <td>14-16</td>\n",
       "      <td>PRACTITIONER - OBSTETRICS/GYNECOLOGY</td>\n",
       "      <td>PR</td>\n",
       "      <td>JORGE</td>\n",
       "      <td>A</td>\n",
       "      <td>OSTOLAZA BEY</td>\n",
       "      <td>NaN</td>\n",
       "      <td>M</td>\n",
       "    </tr>\n",
       "    <tr>\n",
       "      <th>4</th>\n",
       "      <td>1851357214</td>\n",
       "      <td>2466364161</td>\n",
       "      <td>I20031103000014</td>\n",
       "      <td>14-30</td>\n",
       "      <td>PRACTITIONER - DIAGNOSTIC RADIOLOGY</td>\n",
       "      <td>KY</td>\n",
       "      <td>RHONDA</td>\n",
       "      <td>G</td>\n",
       "      <td>GRISSOM</td>\n",
       "      <td>NaN</td>\n",
       "      <td>F</td>\n",
       "    </tr>\n",
       "  </tbody>\n",
       "</table>\n",
       "</div>"
      ],
      "text/plain": [
       "          NPI PECOS_ASCT_CNTL_ID        ENRLMT_ID PROVIDER_TYPE_CD  \\\n",
       "0  1003879883         8022920719  I20031103000001            14-16   \n",
       "1  1003976986         7113839812  I20031103000005            14-68   \n",
       "2  1407802119         8022920727  I20031103000007            14-93   \n",
       "3  1831165075         5193637890  I20031103000013            14-16   \n",
       "4  1851357214         2466364161  I20031103000014            14-30   \n",
       "\n",
       "                      PROVIDER_TYPE_DESC STATE_CD   FIRST_NAME MDL_NAME  \\\n",
       "0   PRACTITIONER - OBSTETRICS/GYNECOLOGY       PR      ANTONIO      NaN   \n",
       "1  PRACTITIONER - PSYCHOLOGIST, CLINICAL       PA  CHRISTOPHER        J   \n",
       "2      PRACTITIONER - EMERGENCY MEDICINE       PA      KADISHA        B   \n",
       "3   PRACTITIONER - OBSTETRICS/GYNECOLOGY       PR        JORGE        A   \n",
       "4    PRACTITIONER - DIAGNOSTIC RADIOLOGY       KY       RHONDA        G   \n",
       "\n",
       "           LAST_NAME ORG_NAME GNDR_SW  \n",
       "0  ALVAREZ RODRIGUEZ      NaN       M  \n",
       "1            ZIEGLER      NaN       M  \n",
       "2               RAPP      NaN       F  \n",
       "3       OSTOLAZA BEY      NaN       M  \n",
       "4            GRISSOM      NaN       F  "
      ]
     },
     "execution_count": 12,
     "metadata": {},
     "output_type": "execute_result"
    }
   ],
   "source": [
    "baseproviderdf.head(5)"
   ]
  },
  {
   "cell_type": "code",
   "execution_count": 9,
   "metadata": {},
   "outputs": [
    {
     "data": {
      "text/plain": [
       "NPI                         0\n",
       "PECOS_ASCT_CNTL_ID          0\n",
       "ENRLMT_ID                   0\n",
       "PROVIDER_TYPE_CD            0\n",
       "PROVIDER_TYPE_DESC          0\n",
       "STATE_CD                    0\n",
       "FIRST_NAME             439976\n",
       "MDL_NAME               954632\n",
       "LAST_NAME              440007\n",
       "ORG_NAME              1909954\n",
       "GNDR_SW                454023\n",
       "dtype: int64"
      ]
     },
     "execution_count": 9,
     "metadata": {},
     "output_type": "execute_result"
    }
   ],
   "source": [
    "#Finding the count of the missing values\n",
    "baseproviderdf.isnull().sum()"
   ]
  },
  {
   "cell_type": "code",
   "execution_count": 11,
   "metadata": {},
   "outputs": [
    {
     "data": {
      "text/plain": [
       "NPI                    0.000000\n",
       "PECOS_ASCT_CNTL_ID     0.000000\n",
       "ENRLMT_ID              0.000000\n",
       "PROVIDER_TYPE_CD       0.000000\n",
       "PROVIDER_TYPE_DESC     0.000000\n",
       "STATE_CD               0.000000\n",
       "FIRST_NAME            18.723100\n",
       "MDL_NAME              40.624194\n",
       "LAST_NAME             18.724419\n",
       "ORG_NAME              81.277751\n",
       "GNDR_SW               19.320868\n",
       "dtype: float64"
      ]
     },
     "execution_count": 11,
     "metadata": {},
     "output_type": "execute_result"
    }
   ],
   "source": [
    "# Calculating the percentage of missing values\n",
    "(baseproviderdf.isnull().sum()/len(baseproviderdf))*100"
   ]
  },
  {
   "cell_type": "code",
   "execution_count": 12,
   "metadata": {},
   "outputs": [
    {
     "data": {
      "text/plain": [
       "CA    211403\n",
       "NY    169725\n",
       "TX    159424\n",
       "FL    142752\n",
       "PA    104998\n",
       "IL     94026\n",
       "OH     87845\n",
       "MI     84658\n",
       "NC     72490\n",
       "NJ     69295\n",
       "MA     68330\n",
       "GA     68087\n",
       "WA     52608\n",
       "VA     50446\n",
       "TN     50116\n",
       "MN     49320\n",
       "WI     46373\n",
       "IN     45918\n",
       "MO     45879\n",
       "AZ     44419\n",
       "CO     41284\n",
       "MD     40695\n",
       "DC     34321\n",
       "SC     34221\n",
       "CT     33776\n",
       "KY     33213\n",
       "AL     32356\n",
       "LA     31850\n",
       "OR     31165\n",
       "IA     25060\n",
       "KS     23588\n",
       "OK     23502\n",
       "AR     19783\n",
       "MS     19556\n",
       "UT     17996\n",
       "NV     16678\n",
       "NE     16219\n",
       "WV     15640\n",
       "NM     14554\n",
       "PR     14049\n",
       "ME     13855\n",
       "ID     12647\n",
       "NH     12261\n",
       "HI     10317\n",
       "RI     10233\n",
       "MT      9757\n",
       "DE      9052\n",
       "SD      7747\n",
       "ND      7692\n",
       "VT      6803\n",
       "AK      5381\n",
       "WY      5264\n",
       "GU       660\n",
       "VI       527\n",
       "MP        88\n",
       "AS         7\n",
       "PW         1\n",
       "Name: STATE_CD, dtype: int64"
      ]
     },
     "execution_count": 12,
     "metadata": {},
     "output_type": "execute_result"
    }
   ],
   "source": [
    "#Frequency of value occurrence for 'STATE_CD' field\n",
    "baseproviderdf['STATE_CD'].value_counts()"
   ]
  },
  {
   "cell_type": "code",
   "execution_count": 13,
   "metadata": {},
   "outputs": [
    {
     "data": {
      "text/plain": [
       "57"
      ]
     },
     "execution_count": 13,
     "metadata": {},
     "output_type": "execute_result"
    }
   ],
   "source": [
    "#Total number of categories for 'STATE_CD'\n",
    "len(baseproviderdf['STATE_CD'].value_counts())"
   ]
  },
  {
   "cell_type": "code",
   "execution_count": 14,
   "metadata": {},
   "outputs": [
    {
     "data": {
      "text/plain": [
       "12-70    246079\n",
       "14-50    238177\n",
       "14-97    128809\n",
       "14-11    119154\n",
       "14-08    110152\n",
       "14-65     95342\n",
       "14-80     80102\n",
       "14-93     65995\n",
       "14-43     62095\n",
       "14-35     52835\n",
       "14-05     51862\n",
       "30-A5     47947\n",
       "14-30     46686\n",
       "14-37     45323\n",
       "14-41     43751\n",
       "14-16     42446\n",
       "14-68     41813\n",
       "14-26     37920\n",
       "33-C5     37223\n",
       "33-11     31508\n",
       "14-20     28195\n",
       "14-02     27563\n",
       "14-06     25158\n",
       "14-18     22010\n",
       "14-13     20473\n",
       "14-C6     18655\n",
       "14-48     18397\n",
       "14-67     17980\n",
       "14-10     17186\n",
       "14-22     16097\n",
       "          ...  \n",
       "30-06         6\n",
       "14-70         6\n",
       "30-03         6\n",
       "30-46         5\n",
       "30-B4         5\n",
       "30-16         4\n",
       "30-37         4\n",
       "30-82         4\n",
       "33-C9         4\n",
       "12-23         3\n",
       "33-D4         3\n",
       "30-85         3\n",
       "30-33         3\n",
       "30-84         2\n",
       "30-A3         2\n",
       "33-76         2\n",
       "12-C3         2\n",
       "30-30         2\n",
       "30-76         2\n",
       "30-97         2\n",
       "30-A8         2\n",
       "30-91         2\n",
       "30-38         2\n",
       "30-92         2\n",
       "30-10         1\n",
       "33-62         1\n",
       "12-Z4         1\n",
       "30-94         1\n",
       "30-64         1\n",
       "30-A2         1\n",
       "Name: PROVIDER_TYPE_CD, Length: 288, dtype: int64"
      ]
     },
     "execution_count": 14,
     "metadata": {},
     "output_type": "execute_result"
    }
   ],
   "source": [
    "#Frequency of value occurrence for 'PROVIDER_TYPE_CD' field\n",
    "baseproviderdf['PROVIDER_TYPE_CD'].value_counts()"
   ]
  },
  {
   "cell_type": "code",
   "execution_count": 15,
   "metadata": {},
   "outputs": [
    {
     "data": {
      "text/plain": [
       "288"
      ]
     },
     "execution_count": 15,
     "metadata": {},
     "output_type": "execute_result"
    }
   ],
   "source": [
    "#Total number of categories for 'PROVIDER_TYPE_CD'\n",
    "len(baseproviderdf['PROVIDER_TYPE_CD'].value_counts())"
   ]
  },
  {
   "cell_type": "code",
   "execution_count": 16,
   "metadata": {},
   "outputs": [],
   "source": [
    "reassignmentdf= pd.read_csv('Reassignment_Sub-_File.csv')"
   ]
  },
  {
   "cell_type": "code",
   "execution_count": 17,
   "metadata": {},
   "outputs": [
    {
     "data": {
      "text/plain": [
       "(2366494, 2)"
      ]
     },
     "execution_count": 17,
     "metadata": {},
     "output_type": "execute_result"
    }
   ],
   "source": [
    "#Finding the number of rows and columns\n",
    "reassignmentdf.shape"
   ]
  },
  {
   "cell_type": "code",
   "execution_count": 18,
   "metadata": {},
   "outputs": [
    {
     "data": {
      "text/plain": [
       "REASGN_BNFT_ENRLMT_ID    object\n",
       "RCV_BNFT_ENRLMT_ID       object\n",
       "dtype: object"
      ]
     },
     "execution_count": 18,
     "metadata": {},
     "output_type": "execute_result"
    }
   ],
   "source": [
    "#Finding the datatypes of the fields\n",
    "reassignmentdf.dtypes"
   ]
  },
  {
   "cell_type": "code",
   "execution_count": 19,
   "metadata": {},
   "outputs": [
    {
     "data": {
      "text/plain": [
       "REASGN_BNFT_ENRLMT_ID    0\n",
       "RCV_BNFT_ENRLMT_ID       0\n",
       "dtype: int64"
      ]
     },
     "execution_count": 19,
     "metadata": {},
     "output_type": "execute_result"
    }
   ],
   "source": [
    "#Finding the count of the missing values\n",
    "reassignmentdf.isnull().sum()"
   ]
  },
  {
   "cell_type": "code",
   "execution_count": 20,
   "metadata": {},
   "outputs": [],
   "source": [
    "addressdf= pd.read_csv('Address_Sub-_File.csv')"
   ]
  },
  {
   "cell_type": "code",
   "execution_count": 21,
   "metadata": {},
   "outputs": [
    {
     "data": {
      "text/plain": [
       "(1012218, 4)"
      ]
     },
     "execution_count": 21,
     "metadata": {},
     "output_type": "execute_result"
    }
   ],
   "source": [
    "#Finding the number of rows and columns\n",
    "addressdf.shape"
   ]
  },
  {
   "cell_type": "code",
   "execution_count": 22,
   "metadata": {},
   "outputs": [
    {
     "data": {
      "text/plain": [
       "ENRLMT_ID    object\n",
       "CITY_NAME    object\n",
       "ZIP_CD        int64\n",
       "STATE_CD     object\n",
       "dtype: object"
      ]
     },
     "execution_count": 22,
     "metadata": {},
     "output_type": "execute_result"
    }
   ],
   "source": [
    "#Finding the datatypes of the fields\n",
    "addressdf.dtypes"
   ]
  },
  {
   "cell_type": "code",
   "execution_count": 23,
   "metadata": {},
   "outputs": [
    {
     "data": {
      "text/plain": [
       "ENRLMT_ID    0\n",
       "CITY_NAME    0\n",
       "ZIP_CD       0\n",
       "STATE_CD     0\n",
       "dtype: int64"
      ]
     },
     "execution_count": 23,
     "metadata": {},
     "output_type": "execute_result"
    }
   ],
   "source": [
    "#Finding the count of the missing values\n",
    "addressdf.isnull().sum()"
   ]
  },
  {
   "cell_type": "code",
   "execution_count": 24,
   "metadata": {},
   "outputs": [
    {
     "data": {
      "text/plain": [
       "NEW YORK            10044\n",
       "BROOKLYN             8870\n",
       "CHICAGO              8835\n",
       "HOUSTON              8686\n",
       "MIAMI                6604\n",
       "SAN ANTONIO          5816\n",
       "LOS ANGELES          5209\n",
       "DALLAS               5069\n",
       "LAS VEGAS            4585\n",
       "PHOENIX              4088\n",
       "COLUMBUS             3823\n",
       "PHILADELPHIA         3755\n",
       "JACKSONVILLE         3587\n",
       "AUSTIN               3582\n",
       "SAN DIEGO            3323\n",
       "BRONX                3220\n",
       "TAMPA                3069\n",
       "ATLANTA              2934\n",
       "SAINT LOUIS          2883\n",
       "SPRINGFIELD          2879\n",
       "LOUISVILLE           2879\n",
       "CINCINNATI           2877\n",
       "PORTLAND             2815\n",
       "INDIANAPOLIS         2757\n",
       "COLUMBIA             2736\n",
       "WASHINGTON           2661\n",
       "TUCSON               2525\n",
       "BALTIMORE            2498\n",
       "ORLANDO              2481\n",
       "GLENDALE             2437\n",
       "                    ...  \n",
       "ST AGUSTINE             1\n",
       "ST ROBERTS              1\n",
       "MCCAMMON                1\n",
       "DES PLAINS              1\n",
       "WEST SIMSBURY           1\n",
       "PONTA VEDRA             1\n",
       "ASCUTNEY                1\n",
       "DAVENORT                1\n",
       "KNOSVILLE               1\n",
       "WESTMINTER              1\n",
       "GREEWOOD VILLAGE        1\n",
       "ALTONA                  1\n",
       "DAYTON BEACH            1\n",
       "ROXIE                   1\n",
       "FLANNAGAN               1\n",
       "BRIDPORT                1\n",
       "LONGPORT                1\n",
       "RAINBOW                 1\n",
       "BUCKLAND                1\n",
       "FREDERICKSBERG          1\n",
       "CHEVEY CHASE            1\n",
       "GLASATONBURY            1\n",
       "BRITAIN                 1\n",
       "GOODARD                 1\n",
       "ST MICHAEL'S            1\n",
       "RUSSEL                  1\n",
       "NORCORSS                1\n",
       "LEXINTON                1\n",
       "TRINITY TEXAS           1\n",
       "EMMONAK                 1\n",
       "Name: CITY_NAME, Length: 17228, dtype: int64"
      ]
     },
     "execution_count": 24,
     "metadata": {},
     "output_type": "execute_result"
    }
   ],
   "source": [
    "#Frequency of value occurrence for 'CITY_NAME' field\n",
    "addressdf['CITY_NAME'].value_counts()"
   ]
  },
  {
   "cell_type": "code",
   "execution_count": 25,
   "metadata": {},
   "outputs": [
    {
     "data": {
      "text/plain": [
       "17228"
      ]
     },
     "execution_count": 25,
     "metadata": {},
     "output_type": "execute_result"
    }
   ],
   "source": [
    "#Total number of categories for 'CITY_NAME'\n",
    "len(addressdf['CITY_NAME'].value_counts())"
   ]
  },
  {
   "cell_type": "code",
   "execution_count": 26,
   "metadata": {},
   "outputs": [],
   "source": [
    "secondaryspecialitydf= pd.read_csv('Secondary_Specialty.csv')"
   ]
  },
  {
   "cell_type": "code",
   "execution_count": 27,
   "metadata": {},
   "outputs": [
    {
     "data": {
      "text/plain": [
       "(457390, 3)"
      ]
     },
     "execution_count": 27,
     "metadata": {},
     "output_type": "execute_result"
    }
   ],
   "source": [
    "#Finding the number of rows and columns\n",
    "secondaryspecialitydf.shape"
   ]
  },
  {
   "cell_type": "code",
   "execution_count": 28,
   "metadata": {},
   "outputs": [
    {
     "data": {
      "text/plain": [
       "ENRLMT_ID             object\n",
       "PROVIDER_TYPE_CD      object\n",
       "PROVIDER_TYPE_DESC    object\n",
       "dtype: object"
      ]
     },
     "execution_count": 28,
     "metadata": {},
     "output_type": "execute_result"
    }
   ],
   "source": [
    "#Finding the datatypes of the fields\n",
    "secondaryspecialitydf.dtypes"
   ]
  },
  {
   "cell_type": "code",
   "execution_count": 29,
   "metadata": {},
   "outputs": [
    {
     "data": {
      "text/plain": [
       "ENRLMT_ID             0\n",
       "PROVIDER_TYPE_CD      0\n",
       "PROVIDER_TYPE_DESC    0\n",
       "dtype: int64"
      ]
     },
     "execution_count": 29,
     "metadata": {},
     "output_type": "execute_result"
    }
   ],
   "source": [
    "#Finding the count of the missing values\n",
    "secondaryspecialitydf.isnull().sum()"
   ]
  },
  {
   "cell_type": "code",
   "execution_count": 30,
   "metadata": {},
   "outputs": [
    {
     "data": {
      "text/plain": [
       "PRACTITIONER - INTERNAL MEDICINE                                       109282\n",
       "PRACTITIONER - DENTIST                                                  37464\n",
       "PRACTITIONER - PEDIATRIC MEDICINE                                       26644\n",
       "PRACTITIONER - FAMILY MEDICINE                                          23713\n",
       "PRACTITIONER - EMERGENCY MEDICINE                                       16407\n",
       "PRACTITIONER - GENERAL SURGERY                                          16126\n",
       "PRACTITIONER - ORAL SURGERY                                             15569\n",
       "PRACTITIONER - Other                                                    12673\n",
       "PRACTITIONER - CRITICAL CARE (INTENSIVISTS)                             12222\n",
       "PRACTITIONER - CARDIOVASCULAR DISEASE (CARDIOLOGY)                      11102\n",
       "PRACTITIONER - ANESTHESIOLOGY                                            8005\n",
       "PRACTITIONER - PSYCHIATRY                                                7880\n",
       "PRACTITIONER - GENERAL PRACTICE                                          7387\n",
       "PRACTITIONER - OBSTETRICS/GYNECOLOGY                                     6748\n",
       "PRACTITIONER - GERIATRIC MEDICINE                                        5949\n",
       "PRACTITIONER - ORTHOPEDIC SURGERY                                        5804\n",
       "DME SUPPLIER - GROCERY STORE                                             5690\n",
       "PRACTITIONER - PAIN MANAGEMENT                                           5575\n",
       "PRACTITIONER - PULMONARY DISEASE                                         5383\n",
       "DME SUPPLIER - OXYGEN & EQUIPMENT                                        5314\n",
       "PRACTITIONER - DIAGNOSTIC RADIOLOGY                                      5151\n",
       "PRACTITIONER - HOSPITALIST                                               5071\n",
       "DME SUPPLIER - OPTICIAN                                                  4970\n",
       "PRACTITIONER - NEUROLOGY                                                 4690\n",
       "PRACTITIONER - SPORTS MEDICINE                                           3883\n",
       "PRACTITIONER - HEMATOLOGY/ONCOLOGY                                       3859\n",
       "PRACTITIONER - INTERVENTIONAL PAIN MANAGEMENT                            3545\n",
       "PRACTITIONER - INTERVENTIONAL RADIOLOGY                                  3195\n",
       "PRACTITIONER - PHYSICAL MEDICINE AND REHABILITATION                      3026\n",
       "PRACTITIONER - INFECTIOUS DISEASE                                        2795\n",
       "                                                                        ...  \n",
       "DME SUPPLIER - NURSING FACILITY                                            10\n",
       "DME SUPPLIER - INDIAN HEALTH SERVICE OR TRIBAL FACILITY                     9\n",
       "DME SUPPLIER - ORAL SURGERY - DENTIST                                       8\n",
       "DME SUPPLIER - PHYSICIAN - NEUROLOGY                                        7\n",
       "DME SUPPLIER - PHYSICIAN - EMERGENCY MEDICINE                               4\n",
       "DME SUPPLIER - AMBULANCE SERVICE SUPPLIER                                   4\n",
       "DME SUPPLIER - PHYSICIAN - VASCULAR SURGERY                                 3\n",
       "DME SUPPLIER - PHYSICIAN - UROLOGY                                          3\n",
       "DME SUPPLIER - UNKNOWN SUPPLIER/PROVIDER                                    3\n",
       "DME SUPPLIER - PHYSICIAN - PLASTIC AND RECONSTRUCTIVE SURGERY               2\n",
       "DME SUPPLIER - PHYSICIAN - OTOLARYNGOLOGY                                   2\n",
       "DME SUPPLIER - SKILLED NURSING FACILITY OTHER                               2\n",
       "DME SUPPLIER - PHYSICIAN - CARDIOLOGY                                       2\n",
       "DME SUPPLIER - PHYSICIAN - GERIATRIC MEDICINE                               2\n",
       "DME SUPPLIER - CERTIFIED CLINICAL NURSE SPECIALIST                          1\n",
       "DME SUPPLIER - PHYSICIAN - PSYCHIATRY                                       1\n",
       "DME SUPPLIER - PHYSICIAN - PEDIATRIC MEDICINE                               1\n",
       "DME SUPPLIER - PHYSICIAN - MEDICAL ONCOLOGY                                 1\n",
       "DME SUPPLIER - INDEPENDENTLY-BILLING CLINICAL LAB                           1\n",
       "DME SUPPLIER - PHYSICIAN - ALLERGY/IMMUNOLOGY                               1\n",
       "DME SUPPLIER - VOLUNTARY HEALTH OR CHARITABLE AGENCIES                      1\n",
       "DME SUPPLIER - INDEPENDENTLY-BILLING AUDIOLOGIST                            1\n",
       "DME SUPPLIER - PHYSICIAN - ADDICTION MEDICINE                               1\n",
       "DME SUPPLIER - PHYSICIAN - PULMONARY DISEASE                                1\n",
       "DME SUPPLIER - PHYSICIAN - DERMATOLOGY                                      1\n",
       "DME SUPPLIER - PHYSICIAN - OBSTETRICS/GYNECOLOGY                            1\n",
       "DME SUPPLIER - PHYSICIAN - SURGICAL ONCOLOGY                                1\n",
       "DME SUPPLIER - PHYSICIAN - COLORECTAL SURGERY (FORMERLY PROCTOLOGY)         1\n",
       "DME SUPPLIER - INDEPENDENT PHYSIOLOGICAL LAB                                1\n",
       "DME SUPPLIER - PHYSICIAN - GASTROENTEROLOGY                                 1\n",
       "Name: PROVIDER_TYPE_DESC, Length: 148, dtype: int64"
      ]
     },
     "execution_count": 30,
     "metadata": {},
     "output_type": "execute_result"
    }
   ],
   "source": [
    "#Frequency of value occurrence for 'PROVIDER_TYPE_DESC' field\n",
    "secondaryspecialitydf['PROVIDER_TYPE_DESC'].value_counts()"
   ]
  },
  {
   "cell_type": "code",
   "execution_count": 31,
   "metadata": {},
   "outputs": [
    {
     "data": {
      "text/plain": [
       "148"
      ]
     },
     "execution_count": 31,
     "metadata": {},
     "output_type": "execute_result"
    }
   ],
   "source": [
    "#Total number of categories for 'PROVIDER_TYPE_DESC'\n",
    "len(secondaryspecialitydf['PROVIDER_TYPE_DESC'].value_counts())"
   ]
  },
  {
   "cell_type": "code",
   "execution_count": 5,
   "metadata": {},
   "outputs": [],
   "source": [
    "import pandas as pd\n",
    "medprovdf= pd.read_csv('Medicare_Physician_and_Other_Supplier_National_Provider_Identifier__NPI__Aggregate_Report__Calendar_Year_2017.csv', dtype={\"National Provider Identifier\":'str',\"Last Name/Organization Name of the Provider\":str,\"First Name of the Provider\":str,\"Middle Initial of the Provider\":str,\"Credentials of the Provider\" :str,\"Gender of the Provider\":str,\"Entity Type of the Provider\":str, \"Street Address 1 of the Provider\":str, \"Street Address 2 of the Provider\":str,\"City of the Provider\":str, \"Zip Code of the Provider\":str, \"Provider RUCA\":str, \"State Code of the Provider\":str, \"Country Code of the Provider\":str,\"Provider Type\":str, \"Medicare Participation Indicator\":str, \"Number of HCPCS\":str, \"Number of Services\":str, \"Number of Medicare Beneficiaries\":str,\"Total Submitted Charge Amount\":str, \"Total Medicare Allowed Amount\":str, \"Total Medicare Payment Amount\":str, \"Total Medicare Standardized Payment Amount\":str,\"Drug Suppress Indicator\":str, \"Number of HCPCS Associated With Drug Services\":str, \"Number of Drug Services\":str, \"Number of Medicare Beneficiaries With Drug Services\":str, \"Total Drug Submitted Charge Amount\":str, \"Total Drug Medicare Allowed Amount\":str, \"Total Drug Medicare Payment Amount\":str, \"Total Drug Medicare Standardized Payment Amount\":str, \"Medical Suppress Indicator\":str, \"Number of HCPCS Associated With Medical Services\":str, \"Number of Medical Services\":str, \"Number of Medicare Beneficiaries With Medical Services\":str, \"Total Medical Submitted Charge Amount\":str, \"Total Medical Medicare Allowed Amount\":str, \"Total Medical Medicare Payment Amount\":str, \"Total Medical Medicare Standardized Payment Amount\":str, \"Average Age of Beneficiaries\":str, \"Number of Beneficiaries Age Less 65\":str, \"Number of Beneficiaries Age 65 to 74\":str, \"Number of Beneficiaries Age 75 to 84\":str, \"Number of Beneficiaries Age Greater 84\":str, \"Number of Female Beneficiaries\":str, \"Number of Male Beneficiaries\":str, \"Number of Non-Hispanic White Beneficiaries\":str, \"Number of Black or African American Beneficiaries\":str, \"Number of Asian Pacific Islander Beneficiaries\":str, \"Number of Hispanic Beneficiaries\":str, \"Number of American Indian/Alaska Native Beneficiaries\":str, \"Number of Beneficiaries With Race Not Elsewhere Classified\":str, \"Number of Beneficiaries With Medicare Only Entitlement\":str, \"Number of Beneficiaries With Medicare & Medicaid Entitlement\":str, \"Percent (%) of Beneficiaries Identified With Atrial Fibrillation\":str, \"Percent (%) of Beneficiaries Identified With Alzheimer’s Disease or Dementia\":str, \"Percent (%) of Beneficiaries Identified With Asthma\":str, \"Percent (%) of Beneficiaries Identified With Cancer\":str, \"Percent (%) of Beneficiaries Identified With Heart Failure\":str, \"Percent (%) of Beneficiaries Identified With Chronic Kidney Disease\":str, \"Percent (%) of Beneficiaries Identified With Chronic Obstructive Pulmonary Disease\":str, \"Percent (%) of Beneficiaries Identified With Depression\":str, \"Percent (%) of Beneficiaries Identified With Diabetes\":str, \"Percent (%) of Beneficiaries Identified With Hyperlipidemia\":str, \"Percent (%) of Beneficiaries Identified With Hypertension\":str, \"Percent (%) of Beneficiaries Identified With Ischemic Heart Disease\":str, \"Percent (%) of Beneficiaries Identified With Osteoporosis\":str, \"Percent (%) of Beneficiaries Identified With Rheumatoid Arthritis / Osteoarthritis\":str, \"Percent (%) of Beneficiaries Identified With Schizophrenia / Other Psychotic Disorders\":str, \"Percent (%) of Beneficiaries Identified With Stroke\":str, \"Average HCC Risk Score of Beneficiaries\":str })"
   ]
  },
  {
   "cell_type": "code",
   "execution_count": 7,
   "metadata": {},
   "outputs": [
    {
     "data": {
      "text/plain": [
       "(1088687, 71)"
      ]
     },
     "execution_count": 7,
     "metadata": {},
     "output_type": "execute_result"
    }
   ],
   "source": [
    "#Finding the number of rows and columns\n",
    "medprovdf.shape"
   ]
  },
  {
   "cell_type": "code",
   "execution_count": 8,
   "metadata": {},
   "outputs": [
    {
     "data": {
      "text/plain": [
       "National Provider Identifier                                                              object\n",
       "Last Name/Organization Name of the Provider                                               object\n",
       "First Name of the Provider                                                                object\n",
       "Middle Initial of the Provider                                                            object\n",
       "Credentials of the Provider                                                               object\n",
       "Gender of the Provider                                                                    object\n",
       "Entity Type of the Provider                                                               object\n",
       "Street Address 1 of the Provider                                                          object\n",
       "Street Address 2 of the Provider                                                          object\n",
       "City of the Provider                                                                      object\n",
       "Zip Code of the Provider                                                                  object\n",
       "Provider RUCA                                                                             object\n",
       "State Code of the Provider                                                                object\n",
       "Country Code of the Provider                                                              object\n",
       "Provider Type of the Provider                                                             object\n",
       "Medicare Participation Indicator                                                          object\n",
       "Number of HCPCS                                                                           object\n",
       "Number of Services                                                                        object\n",
       "Number of Medicare Beneficiaries                                                          object\n",
       "Total Submitted Charge Amount                                                             object\n",
       "Total Medicare Allowed Amount                                                             object\n",
       "Total Medicare Payment Amount                                                             object\n",
       "Total Medicare Standardized Payment Amount                                                object\n",
       "Drug Suppress Indicator                                                                   object\n",
       "Number of HCPCS Associated With Drug Services                                             object\n",
       "Number of Drug Services                                                                   object\n",
       "Number of Medicare Beneficiaries With Drug Services                                       object\n",
       "Total Drug Submitted Charge Amount                                                        object\n",
       "Total Drug Medicare Allowed Amount                                                        object\n",
       "Total Drug Medicare Payment Amount                                                        object\n",
       "                                                                                           ...  \n",
       "Number of Beneficiaries Age 65 to 74                                                      object\n",
       "Number of Beneficiaries Age 75 to 84                                                      object\n",
       "Number of Beneficiaries Age Greater 84                                                    object\n",
       "Number of Female Beneficiaries                                                            object\n",
       "Number of Male Beneficiaries\\t                                                            object\n",
       "Number of Non-Hispanic White Beneficiaries\\t                                              object\n",
       "Number of Black or African American Beneficiaries                                         object\n",
       "Number of Asian Pacific Islander Beneficiaries                                            object\n",
       "Number of Hispanic Beneficiaries                                                          object\n",
       "Number of American Indian/Alaska Native Beneficiaries                                     object\n",
       "Number of Beneficiaries With Race Not Elsewhere Classified                                object\n",
       "Number of Beneficiaries With Medicare Only Entitlement                                    object\n",
       "Number of Beneficiaries With Medicare & Medicaid Entitlement                              object\n",
       "Percent (%) of Beneficiaries Identified With Atrial Fibrillation                          object\n",
       "Percent (%) of Beneficiaries Identified With Alzheimer’s Disease or Dementia              object\n",
       "Percent (%) of Beneficiaries Identified With Asthma                                       object\n",
       "Percent (%) of Beneficiaries Identified With Cancer                                       object\n",
       "Percent (%) of Beneficiaries Identified With Heart Failure                                object\n",
       "Percent (%) of Beneficiaries Identified With Chronic Kidney Disease                       object\n",
       "Percent (%) of Beneficiaries Identified With Chronic Obstructive Pulmonary Disease        object\n",
       "Percent (%) of Beneficiaries Identified With Depression                                   object\n",
       "Percent (%) of Beneficiaries Identified With Diabetes                                     object\n",
       "Percent (%) of Beneficiaries Identified With Hyperlipidemia                               object\n",
       "Percent (%) of Beneficiaries Identified With Hypertension                                 object\n",
       "Percent (%) of Beneficiaries Identified With Ischemic Heart Disease                       object\n",
       "Percent (%) of Beneficiaries Identified With Osteoporosis                                 object\n",
       "Percent (%) of Beneficiaries Identified With Rheumatoid Arthritis / Osteoarthritis        object\n",
       "Percent (%) of Beneficiaries Identified With Schizophrenia / Other Psychotic Disorders    object\n",
       "Percent (%) of Beneficiaries Identified With Stroke                                       object\n",
       "Average HCC Risk Score of Beneficiaries                                                   object\n",
       "Length: 71, dtype: object"
      ]
     },
     "execution_count": 8,
     "metadata": {},
     "output_type": "execute_result"
    }
   ],
   "source": [
    "#Finding the datatypes of the fields\n",
    "medprovdf.dtypes"
   ]
  },
  {
   "cell_type": "code",
   "execution_count": 9,
   "metadata": {},
   "outputs": [
    {
     "data": {
      "text/plain": [
       "National Provider Identifier                                                                   0\n",
       "Last Name/Organization Name of the Provider                                                   23\n",
       "First Name of the Provider                                                                 61876\n",
       "Middle Initial of the Provider                                                            359264\n",
       "Credentials of the Provider                                                               111339\n",
       "Gender of the Provider                                                                     61863\n",
       "Entity Type of the Provider                                                                    0\n",
       "Street Address 1 of the Provider                                                               2\n",
       "Street Address 2 of the Provider                                                          690983\n",
       "City of the Provider                                                                           1\n",
       "Zip Code of the Provider                                                                       1\n",
       "Provider RUCA                                                                               7211\n",
       "State Code of the Provider                                                                     0\n",
       "Country Code of the Provider                                                                   0\n",
       "Provider Type of the Provider                                                                  0\n",
       "Medicare Participation Indicator                                                               0\n",
       "Number of HCPCS                                                                                0\n",
       "Number of Services                                                                             0\n",
       "Number of Medicare Beneficiaries                                                               0\n",
       "Total Submitted Charge Amount                                                                  0\n",
       "Total Medicare Allowed Amount                                                                  0\n",
       "Total Medicare Payment Amount                                                                  0\n",
       "Total Medicare Standardized Payment Amount                                                     0\n",
       "Drug Suppress Indicator                                                                   974072\n",
       "Number of HCPCS Associated With Drug Services                                             114615\n",
       "Number of Drug Services                                                                   114615\n",
       "Number of Medicare Beneficiaries With Drug Services                                       114615\n",
       "Total Drug Submitted Charge Amount                                                        114615\n",
       "Total Drug Medicare Allowed Amount                                                        114615\n",
       "Total Drug Medicare Payment Amount                                                        114615\n",
       "                                                                                           ...  \n",
       "Number of Beneficiaries Age 65 to 74                                                      170775\n",
       "Number of Beneficiaries Age 75 to 84                                                      311179\n",
       "Number of Beneficiaries Age Greater 84                                                    448010\n",
       "Number of Female Beneficiaries                                                            119076\n",
       "Number of Male Beneficiaries\\t                                                            119076\n",
       "Number of Non-Hispanic White Beneficiaries\\t                                              352703\n",
       "Number of Black or African American Beneficiaries                                         714694\n",
       "Number of Asian Pacific Islander Beneficiaries                                            894513\n",
       "Number of Hispanic Beneficiaries                                                          799604\n",
       "Number of American Indian/Alaska Native Beneficiaries                                     759384\n",
       "Number of Beneficiaries With Race Not Elsewhere Classified                                913616\n",
       "Number of Beneficiaries With Medicare Only Entitlement                                    273127\n",
       "Number of Beneficiaries With Medicare & Medicaid Entitlement                              273127\n",
       "Percent (%) of Beneficiaries Identified With Atrial Fibrillation                          347276\n",
       "Percent (%) of Beneficiaries Identified With Alzheimer’s Disease or Dementia              352428\n",
       "Percent (%) of Beneficiaries Identified With Asthma                                       409771\n",
       "Percent (%) of Beneficiaries Identified With Cancer                                       355683\n",
       "Percent (%) of Beneficiaries Identified With Heart Failure                                271085\n",
       "Percent (%) of Beneficiaries Identified With Chronic Kidney Disease                       166924\n",
       "Percent (%) of Beneficiaries Identified With Chronic Obstructive Pulmonary Disease        290376\n",
       "Percent (%) of Beneficiaries Identified With Depression                                   159878\n",
       "Percent (%) of Beneficiaries Identified With Diabetes                                     153787\n",
       "Percent (%) of Beneficiaries Identified With Hyperlipidemia                                95834\n",
       "Percent (%) of Beneficiaries Identified With Hypertension                                  56689\n",
       "Percent (%) of Beneficiaries Identified With Ischemic Heart Disease                       161529\n",
       "Percent (%) of Beneficiaries Identified With Osteoporosis                                 407207\n",
       "Percent (%) of Beneficiaries Identified With Rheumatoid Arthritis / Osteoarthritis        102139\n",
       "Percent (%) of Beneficiaries Identified With Schizophrenia / Other Psychotic Disorders    587585\n",
       "Percent (%) of Beneficiaries Identified With Stroke                                       493378\n",
       "Average HCC Risk Score of Beneficiaries                                                        0\n",
       "Length: 71, dtype: int64"
      ]
     },
     "execution_count": 9,
     "metadata": {},
     "output_type": "execute_result"
    }
   ],
   "source": [
    "#Finding the count of the missing values\n",
    "medprovdf.isnull().sum()"
   ]
  },
  {
   "cell_type": "code",
   "execution_count": 10,
   "metadata": {},
   "outputs": [
    {
     "name": "stdout",
     "output_type": "stream",
     "text": [
      "<class 'pandas.core.frame.DataFrame'>\n",
      "RangeIndex: 1088687 entries, 0 to 1088686\n",
      "Data columns (total 71 columns):\n",
      "National Provider Identifier                                                              1088687 non-null object\n",
      "Last Name/Organization Name of the Provider                                               1088664 non-null object\n",
      "First Name of the Provider                                                                1026811 non-null object\n",
      "Middle Initial of the Provider                                                            729423 non-null object\n",
      "Credentials of the Provider                                                               977348 non-null object\n",
      "Gender of the Provider                                                                    1026824 non-null object\n",
      "Entity Type of the Provider                                                               1088687 non-null object\n",
      "Street Address 1 of the Provider                                                          1088685 non-null object\n",
      "Street Address 2 of the Provider                                                          397704 non-null object\n",
      "City of the Provider                                                                      1088686 non-null object\n",
      "Zip Code of the Provider                                                                  1088686 non-null object\n",
      "Provider RUCA                                                                             1081476 non-null object\n",
      "State Code of the Provider                                                                1088687 non-null object\n",
      "Country Code of the Provider                                                              1088687 non-null object\n",
      "Provider Type of the Provider                                                             1088687 non-null object\n",
      "Medicare Participation Indicator                                                          1088687 non-null object\n",
      "Number of HCPCS                                                                           1088687 non-null object\n",
      "Number of Services                                                                        1088687 non-null object\n",
      "Number of Medicare Beneficiaries                                                          1088687 non-null object\n",
      "Total Submitted Charge Amount                                                             1088687 non-null object\n",
      "Total Medicare Allowed Amount                                                             1088687 non-null object\n",
      "Total Medicare Payment Amount                                                             1088687 non-null object\n",
      "Total Medicare Standardized Payment Amount                                                1088687 non-null object\n",
      "Drug Suppress Indicator                                                                   114615 non-null object\n",
      "Number of HCPCS Associated With Drug Services                                             974072 non-null object\n",
      "Number of Drug Services                                                                   974072 non-null object\n",
      "Number of Medicare Beneficiaries With Drug Services                                       974072 non-null object\n",
      "Total Drug Submitted Charge Amount                                                        974072 non-null object\n",
      "Total Drug Medicare Allowed Amount                                                        974072 non-null object\n",
      "Total Drug Medicare Payment Amount                                                        974072 non-null object\n",
      "Total Drug Medicare Standardized Payment Amount                                           974072 non-null object\n",
      "Medical Suppress Indicator                                                                114615 non-null object\n",
      "Number of HCPCS Associated With Medical Services                                          974072 non-null object\n",
      "Number of Medical Services                                                                974072 non-null object\n",
      "Number of Medicare Beneficiaries With Medical Services                                    974072 non-null object\n",
      "Total Medical Submitted Charge Amount                                                     974072 non-null object\n",
      "Total Medical Medicare Allowed Amount                                                     974072 non-null object\n",
      "Total Medical Medicare Payment Amount                                                     974072 non-null object\n",
      "Total Medical Medicare Standardized Payment Amount                                        974072 non-null object\n",
      "Average Age of Beneficiaries                                                              1088687 non-null object\n",
      "Number of Beneficiaries Age Less 65                                                       703800 non-null object\n",
      "Number of Beneficiaries Age 65 to 74                                                      917912 non-null object\n",
      "Number of Beneficiaries Age 75 to 84                                                      777508 non-null object\n",
      "Number of Beneficiaries Age Greater 84                                                    640677 non-null object\n",
      "Number of Female Beneficiaries                                                            969611 non-null object\n",
      "Number of Male Beneficiaries\t                                                             969611 non-null object\n",
      "Number of Non-Hispanic White Beneficiaries\t                                               735984 non-null object\n",
      "Number of Black or African American Beneficiaries                                         373993 non-null object\n",
      "Number of Asian Pacific Islander Beneficiaries                                            194174 non-null object\n",
      "Number of Hispanic Beneficiaries                                                          289083 non-null object\n",
      "Number of American Indian/Alaska Native Beneficiaries                                     329303 non-null object\n",
      "Number of Beneficiaries With Race Not Elsewhere Classified                                175071 non-null object\n",
      "Number of Beneficiaries With Medicare Only Entitlement                                    815560 non-null object\n",
      "Number of Beneficiaries With Medicare & Medicaid Entitlement                              815560 non-null object\n",
      "Percent (%) of Beneficiaries Identified With Atrial Fibrillation                          741411 non-null object\n",
      "Percent (%) of Beneficiaries Identified With Alzheimer’s Disease or Dementia              736259 non-null object\n",
      "Percent (%) of Beneficiaries Identified With Asthma                                       678916 non-null object\n",
      "Percent (%) of Beneficiaries Identified With Cancer                                       733004 non-null object\n",
      "Percent (%) of Beneficiaries Identified With Heart Failure                                817602 non-null object\n",
      "Percent (%) of Beneficiaries Identified With Chronic Kidney Disease                       921763 non-null object\n",
      "Percent (%) of Beneficiaries Identified With Chronic Obstructive Pulmonary Disease        798311 non-null object\n",
      "Percent (%) of Beneficiaries Identified With Depression                                   928809 non-null object\n",
      "Percent (%) of Beneficiaries Identified With Diabetes                                     934900 non-null object\n",
      "Percent (%) of Beneficiaries Identified With Hyperlipidemia                               992853 non-null object\n",
      "Percent (%) of Beneficiaries Identified With Hypertension                                 1031998 non-null object\n",
      "Percent (%) of Beneficiaries Identified With Ischemic Heart Disease                       927158 non-null object\n",
      "Percent (%) of Beneficiaries Identified With Osteoporosis                                 681480 non-null object\n",
      "Percent (%) of Beneficiaries Identified With Rheumatoid Arthritis / Osteoarthritis        986548 non-null object\n",
      "Percent (%) of Beneficiaries Identified With Schizophrenia / Other Psychotic Disorders    501102 non-null object\n",
      "Percent (%) of Beneficiaries Identified With Stroke                                       595309 non-null object\n",
      "Average HCC Risk Score of Beneficiaries                                                   1088687 non-null object\n",
      "dtypes: object(71)\n",
      "memory usage: 589.7+ MB\n"
     ]
    }
   ],
   "source": [
    "#Using 'info' to find details about the dataframe\n",
    "medprovdf.info()"
   ]
  },
  {
   "cell_type": "code",
   "execution_count": 11,
   "metadata": {},
   "outputs": [
    {
     "data": {
      "text/plain": [
       "National Provider Identifier                                                               0.000000\n",
       "Last Name/Organization Name of the Provider                                                0.002113\n",
       "First Name of the Provider                                                                 5.683544\n",
       "Middle Initial of the Provider                                                            32.999751\n",
       "Credentials of the Provider                                                               10.226906\n",
       "Gender of the Provider                                                                     5.682349\n",
       "Entity Type of the Provider                                                                0.000000\n",
       "Street Address 1 of the Provider                                                           0.000184\n",
       "Street Address 2 of the Provider                                                          63.469390\n",
       "City of the Provider                                                                       0.000092\n",
       "Zip Code of the Provider                                                                   0.000092\n",
       "Provider RUCA                                                                              0.662358\n",
       "State Code of the Provider                                                                 0.000000\n",
       "Country Code of the Provider                                                               0.000000\n",
       "Provider Type of the Provider                                                              0.000000\n",
       "Medicare Participation Indicator                                                           0.000000\n",
       "Number of HCPCS                                                                            0.000000\n",
       "Number of Services                                                                         0.000000\n",
       "Number of Medicare Beneficiaries                                                           0.000000\n",
       "Total Submitted Charge Amount                                                              0.000000\n",
       "Total Medicare Allowed Amount                                                              0.000000\n",
       "Total Medicare Payment Amount                                                              0.000000\n",
       "Total Medicare Standardized Payment Amount                                                 0.000000\n",
       "Drug Suppress Indicator                                                                   89.472181\n",
       "Number of HCPCS Associated With Drug Services                                             10.527819\n",
       "Number of Drug Services                                                                   10.527819\n",
       "Number of Medicare Beneficiaries With Drug Services                                       10.527819\n",
       "Total Drug Submitted Charge Amount                                                        10.527819\n",
       "Total Drug Medicare Allowed Amount                                                        10.527819\n",
       "Total Drug Medicare Payment Amount                                                        10.527819\n",
       "                                                                                            ...    \n",
       "Number of Beneficiaries Age 65 to 74                                                      15.686327\n",
       "Number of Beneficiaries Age 75 to 84                                                      28.582963\n",
       "Number of Beneficiaries Age Greater 84                                                    41.151405\n",
       "Number of Female Beneficiaries                                                            10.937579\n",
       "Number of Male Beneficiaries\\t                                                            10.937579\n",
       "Number of Non-Hispanic White Beneficiaries\\t                                              32.397099\n",
       "Number of Black or African American Beneficiaries                                         65.647335\n",
       "Number of Asian Pacific Islander Beneficiaries                                            82.164387\n",
       "Number of Hispanic Beneficiaries                                                          73.446638\n",
       "Number of American Indian/Alaska Native Beneficiaries                                     69.752280\n",
       "Number of Beneficiaries With Race Not Elsewhere Classified                                83.919069\n",
       "Number of Beneficiaries With Medicare Only Entitlement                                    25.087743\n",
       "Number of Beneficiaries With Medicare & Medicaid Entitlement                              25.087743\n",
       "Percent (%) of Beneficiaries Identified With Atrial Fibrillation                          31.898608\n",
       "Percent (%) of Beneficiaries Identified With Alzheimer’s Disease or Dementia              32.371839\n",
       "Percent (%) of Beneficiaries Identified With Asthma                                       37.639009\n",
       "Percent (%) of Beneficiaries Identified With Cancer                                       32.670823\n",
       "Percent (%) of Beneficiaries Identified With Heart Failure                                24.900178\n",
       "Percent (%) of Beneficiaries Identified With Chronic Kidney Disease                       15.332598\n",
       "Percent (%) of Beneficiaries Identified With Chronic Obstructive Pulmonary Disease        26.672129\n",
       "Percent (%) of Beneficiaries Identified With Depression                                   14.685396\n",
       "Percent (%) of Beneficiaries Identified With Diabetes                                     14.125915\n",
       "Percent (%) of Beneficiaries Identified With Hyperlipidemia                                8.802714\n",
       "Percent (%) of Beneficiaries Identified With Hypertension                                  5.207098\n",
       "Percent (%) of Beneficiaries Identified With Ischemic Heart Disease                       14.837047\n",
       "Percent (%) of Beneficiaries Identified With Osteoporosis                                 37.403496\n",
       "Percent (%) of Beneficiaries Identified With Rheumatoid Arthritis / Osteoarthritis         9.381852\n",
       "Percent (%) of Beneficiaries Identified With Schizophrenia / Other Psychotic Disorders    53.971895\n",
       "Percent (%) of Beneficiaries Identified With Stroke                                       45.318627\n",
       "Average HCC Risk Score of Beneficiaries                                                    0.000000\n",
       "Length: 71, dtype: float64"
      ]
     },
     "execution_count": 11,
     "metadata": {},
     "output_type": "execute_result"
    }
   ],
   "source": [
    "# Calculating the percentage of missing values\n",
    "(medprovdf.isnull().sum()/len(medicareproviderdf))*100"
   ]
  },
  {
   "cell_type": "code",
   "execution_count": 13,
   "metadata": {},
   "outputs": [
    {
     "data": {
      "text/plain": [
       "2"
      ]
     },
     "execution_count": 13,
     "metadata": {},
     "output_type": "execute_result"
    }
   ],
   "source": [
    "#Total number of categories for 'Entity Type of the Provider'\n",
    "len(medprovdf['Entity Type of the Provider'].value_counts())"
   ]
  },
  {
   "cell_type": "code",
   "execution_count": 15,
   "metadata": {},
   "outputs": [
    {
     "data": {
      "text/plain": [
       "Y    1087756\n",
       "N        931\n",
       "Name: Medicare Participation Indicator, dtype: int64"
      ]
     },
     "execution_count": 15,
     "metadata": {},
     "output_type": "execute_result"
    }
   ],
   "source": [
    "#Frequency of value occurrence for 'Medicare Participation Indicator' field\n",
    "medprovdf['Medicare Participation Indicator'].value_counts()"
   ]
  },
  {
   "cell_type": "code",
   "execution_count": 17,
   "metadata": {},
   "outputs": [
    {
     "data": {
      "text/plain": [
       "95"
      ]
     },
     "execution_count": 17,
     "metadata": {},
     "output_type": "execute_result"
    }
   ],
   "source": [
    "#Total number of categories for 'Provider Type of the Provider'\n",
    "len(medprovdf['Provider Type of the Provider'].value_counts())"
   ]
  },
  {
   "cell_type": "code",
   "execution_count": 18,
   "metadata": {},
   "outputs": [
    {
     "data": {
      "text/plain": [
       "I    1026824\n",
       "O      61863\n",
       "Name: Entity Type of the Provider, dtype: int64"
      ]
     },
     "execution_count": 18,
     "metadata": {},
     "output_type": "execute_result"
    }
   ],
   "source": [
    "#Frequency of value occurrence for 'Entity Type of the Provider' field\n",
    "medprovdf['Entity Type of the Provider'].value_counts()"
   ]
  },
  {
   "cell_type": "code",
   "execution_count": 19,
   "metadata": {},
   "outputs": [],
   "source": [
    "orderdf= pd.read_csv('Order_and_Referring.csv', dtype={\"NPI\":'str', \"LAST NAME\" : 'str', \"FIRST NAME\": 'str', \"PART B\":'str', \"DME\":'str',\"HHA\":'str', \"PMD\":'str'})"
   ]
  },
  {
   "cell_type": "code",
   "execution_count": 20,
   "metadata": {},
   "outputs": [
    {
     "data": {
      "text/plain": [
       "(1563022, 7)"
      ]
     },
     "execution_count": 20,
     "metadata": {},
     "output_type": "execute_result"
    }
   ],
   "source": [
    "#Finding the number of rows and columns\n",
    "orderdf.shape"
   ]
  },
  {
   "cell_type": "code",
   "execution_count": 21,
   "metadata": {},
   "outputs": [
    {
     "data": {
      "text/plain": [
       "NPI           object\n",
       "LAST NAME     object\n",
       "FIRST NAME    object\n",
       "PART B        object\n",
       "DME           object\n",
       "HHA           object\n",
       "PMD           object\n",
       "dtype: object"
      ]
     },
     "execution_count": 21,
     "metadata": {},
     "output_type": "execute_result"
    }
   ],
   "source": [
    "#Finding the datatypes of the fields\n",
    "orderdf.dtypes"
   ]
  },
  {
   "cell_type": "code",
   "execution_count": 22,
   "metadata": {},
   "outputs": [
    {
     "data": {
      "text/plain": [
       "NPI            0\n",
       "LAST NAME     44\n",
       "FIRST NAME    19\n",
       "PART B         0\n",
       "DME            0\n",
       "HHA            0\n",
       "PMD            0\n",
       "dtype: int64"
      ]
     },
     "execution_count": 22,
     "metadata": {},
     "output_type": "execute_result"
    }
   ],
   "source": [
    "#Finding the count of the missing values\n",
    "orderdf.isnull().sum()"
   ]
  },
  {
   "cell_type": "code",
   "execution_count": 23,
   "metadata": {},
   "outputs": [
    {
     "data": {
      "text/plain": [
       "NPI           0.000000\n",
       "LAST NAME     0.004042\n",
       "FIRST NAME    0.001745\n",
       "PART B        0.000000\n",
       "DME           0.000000\n",
       "HHA           0.000000\n",
       "PMD           0.000000\n",
       "dtype: float64"
      ]
     },
     "execution_count": 23,
     "metadata": {},
     "output_type": "execute_result"
    }
   ],
   "source": [
    "# Calculating the percentage of missing values\n",
    "(orderdf.isnull().sum()/len(medicareproviderdf))*100"
   ]
  },
  {
   "cell_type": "code",
   "execution_count": 24,
   "metadata": {},
   "outputs": [
    {
     "data": {
      "text/plain": [
       "1"
      ]
     },
     "execution_count": 24,
     "metadata": {},
     "output_type": "execute_result"
    }
   ],
   "source": [
    "#Total number of categories for 'DME'\n",
    "len(orderdf['DME'].value_counts())"
   ]
  },
  {
   "cell_type": "code",
   "execution_count": 25,
   "metadata": {},
   "outputs": [
    {
     "data": {
      "text/plain": [
       "Y    1563022\n",
       "Name: DME, dtype: int64"
      ]
     },
     "execution_count": 25,
     "metadata": {},
     "output_type": "execute_result"
    }
   ],
   "source": [
    "#Frequency of value occurrence for 'DME' field\n",
    "orderdf['DME'].value_counts()"
   ]
  },
  {
   "cell_type": "code",
   "execution_count": null,
   "metadata": {},
   "outputs": [],
   "source": []
  },
  {
   "cell_type": "code",
   "execution_count": null,
   "metadata": {},
   "outputs": [],
   "source": []
  },
  {
   "cell_type": "code",
   "execution_count": null,
   "metadata": {},
   "outputs": [],
   "source": []
  },
  {
   "cell_type": "code",
   "execution_count": null,
   "metadata": {},
   "outputs": [],
   "source": []
  },
  {
   "cell_type": "code",
   "execution_count": null,
   "metadata": {},
   "outputs": [],
   "source": []
  },
  {
   "cell_type": "code",
   "execution_count": null,
   "metadata": {},
   "outputs": [],
   "source": []
  }
 ],
 "metadata": {
  "kernelspec": {
   "display_name": "Python 3",
   "language": "python",
   "name": "python3"
  },
  "language_info": {
   "codemirror_mode": {
    "name": "ipython",
    "version": 3
   },
   "file_extension": ".py",
   "mimetype": "text/x-python",
   "name": "python",
   "nbconvert_exporter": "python",
   "pygments_lexer": "ipython3",
   "version": "3.7.1"
  }
 },
 "nbformat": 4,
 "nbformat_minor": 2
}
